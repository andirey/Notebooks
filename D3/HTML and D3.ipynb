{
 "cells": [
  {
   "cell_type": "markdown",
   "metadata": {},
   "source": [
    "Reference: http://multithreaded.stitchfix.com/blog/2015/12/15/d3-jupyter/"
   ]
  },
  {
   "cell_type": "code",
   "execution_count": 8,
   "metadata": {
    "collapsed": true
   },
   "outputs": [],
   "source": [
    "# import libraries (including our short d3_lib script)\n",
    "from IPython.core.display import HTML\n",
    "import d3_lib, random"
   ]
  },
  {
   "cell_type": "code",
   "execution_count": 16,
   "metadata": {
    "collapsed": true
   },
   "outputs": [],
   "source": [
    "# construct graph as a set of nodes and links between them\n",
    "n_nodes = 30\n",
    "p_edge = 0.05\n",
    "graph = {\"nodes\": [], \"links\": []}\n",
    "for i in range(n_nodes):\n",
    "    graph[\"nodes\"].append( {\"name\": \"i\" + str(i), \"group\": int(random.uniform(1,11))} )\n",
    "for i in range(n_nodes):\n",
    "    for j in range(n_nodes):\n",
    "        if random.uniform(0,1) < p_edge and i != j:\n",
    "            graph[\"links\"].append( {\"source\": i, \"target\": j, \"value\": random.uniform(0.5,3)} )\n"
   ]
  },
  {
   "cell_type": "code",
   "execution_count": 17,
   "metadata": {
    "collapsed": false
   },
   "outputs": [
    {
     "data": {
      "text/html": [
       "<style>\n",
       "/* http://bl.ocks.org/mbostock/4062045 */\n",
       "\n",
       ".node {\n",
       "  stroke: #fff;\n",
       "  stroke-width: 1.5px;\n",
       "}\n",
       "\n",
       ".link {\n",
       "  stroke: #999;\n",
       "  stroke-opacity: .6;\n",
       "}\n",
       "\n",
       "</style><script src=\"https://cdnjs.cloudflare.com/ajax/libs/d3/3.5.12/d3.min.js\"></script>\n",
       "    \n",
       "                <div id='maindiv1649537138'></div>\n",
       "                \n",
       "                <script>\n",
       "                    \n",
       "// Based on http://bl.ocks.org/mbostock/4062045\n",
       "\n",
       "var width = 960,\n",
       "    height = 500;\n",
       "\n",
       "var color = d3.scale.category20();\n",
       "\n",
       "var force = d3.layout.force()\n",
       "    .charge(-300)\n",
       "    .linkDistance(50)\n",
       "    .size([width, height]);\n",
       "\n",
       "d3.select(\"#maindiv1649537138\").selectAll(\"svg\").remove();\n",
       "var svg = d3.select(\"#maindiv1649537138\").append(\"svg\")\n",
       "    .attr(\"width\", width)\n",
       "    .attr(\"height\", height);\n",
       "\n",
       "//d3.json(\"miserables.json\", function(error, graph) {\n",
       "//  if (error) throw error;\n",
       "var graph = {'nodes': [{'name': 'i0', 'group': 9}, {'name': 'i1', 'group': 2}, {'name': 'i2', 'group': 2}, {'name': 'i3', 'group': 9}, {'name': 'i4', 'group': 10}, {'name': 'i5', 'group': 7}, {'name': 'i6', 'group': 1}, {'name': 'i7', 'group': 3}, {'name': 'i8', 'group': 9}, {'name': 'i9', 'group': 2}, {'name': 'i10', 'group': 9}, {'name': 'i11', 'group': 4}, {'name': 'i12', 'group': 3}, {'name': 'i13', 'group': 9}, {'name': 'i14', 'group': 1}, {'name': 'i15', 'group': 5}, {'name': 'i16', 'group': 3}, {'name': 'i17', 'group': 2}, {'name': 'i18', 'group': 1}, {'name': 'i19', 'group': 5}, {'name': 'i20', 'group': 2}, {'name': 'i21', 'group': 5}, {'name': 'i22', 'group': 7}, {'name': 'i23', 'group': 8}, {'name': 'i24', 'group': 3}, {'name': 'i25', 'group': 3}, {'name': 'i26', 'group': 4}, {'name': 'i27', 'group': 4}, {'name': 'i28', 'group': 3}, {'name': 'i29', 'group': 1}], 'links': [{'target': 6, 'source': 0, 'value': 1.7215331635196323}, {'target': 3, 'source': 1, 'value': 1.6943021014483253}, {'target': 18, 'source': 1, 'value': 2.6965552722279265}, {'target': 19, 'source': 2, 'value': 1.266126219246033}, {'target': 1, 'source': 3, 'value': 1.7260858754522692}, {'target': 19, 'source': 3, 'value': 1.9946192214493426}, {'target': 10, 'source': 4, 'value': 2.0659772191838566}, {'target': 27, 'source': 4, 'value': 1.0371222884800413}, {'target': 4, 'source': 5, 'value': 1.2094142504448233}, {'target': 10, 'source': 5, 'value': 2.419984737910215}, {'target': 14, 'source': 5, 'value': 1.0025517163598474}, {'target': 18, 'source': 5, 'value': 2.6372565157617514}, {'target': 22, 'source': 5, 'value': 2.9139523394172473}, {'target': 12, 'source': 6, 'value': 0.7246235500449256}, {'target': 22, 'source': 7, 'value': 1.0618889477131048}, {'target': 6, 'source': 8, 'value': 2.938951777293976}, {'target': 11, 'source': 8, 'value': 1.2699011922389403}, {'target': 16, 'source': 8, 'value': 0.5672564435654927}, {'target': 16, 'source': 10, 'value': 2.222209424429465}, {'target': 21, 'source': 10, 'value': 2.3593546026443546}, {'target': 3, 'source': 11, 'value': 1.719316852467906}, {'target': 14, 'source': 11, 'value': 2.5328967793808683}, {'target': 1, 'source': 12, 'value': 2.095499610823169}, {'target': 14, 'source': 12, 'value': 1.6140826567531381}, {'target': 5, 'source': 13, 'value': 1.3681596898758297}, {'target': 3, 'source': 14, 'value': 1.5947725708025138}, {'target': 5, 'source': 15, 'value': 1.4814784238671423}, {'target': 16, 'source': 15, 'value': 1.7092970627282362}, {'target': 17, 'source': 15, 'value': 2.629760503613804}, {'target': 3, 'source': 16, 'value': 0.864214917201916}, {'target': 4, 'source': 16, 'value': 2.4927175809130464}, {'target': 6, 'source': 16, 'value': 1.278812646429553}, {'target': 3, 'source': 19, 'value': 1.7147822873571736}, {'target': 22, 'source': 19, 'value': 1.7841271788471806}, {'target': 26, 'source': 19, 'value': 1.3162540749810523}, {'target': 9, 'source': 20, 'value': 2.770923824273898}, {'target': 7, 'source': 21, 'value': 2.0755413158442537}, {'target': 25, 'source': 21, 'value': 2.2797444983960675}, {'target': 17, 'source': 22, 'value': 1.8100446846196139}, {'target': 0, 'source': 23, 'value': 2.0567841755324503}, {'target': 12, 'source': 25, 'value': 2.4223290037009386}, {'target': 9, 'source': 26, 'value': 2.7516091877607574}, {'target': 17, 'source': 26, 'value': 0.560570742268651}, {'target': 6, 'source': 27, 'value': 0.8734252390984769}, {'target': 26, 'source': 27, 'value': 1.2507258004116943}, {'target': 11, 'source': 28, 'value': 1.551483874609613}, {'target': 4, 'source': 29, 'value': 2.4912647830275176}]} ;\n",
       "\n",
       "  force\n",
       "      .nodes(graph.nodes)\n",
       "      .links(graph.links)\n",
       "      .start();\n",
       "\n",
       "  var link = svg.selectAll(\".link\")\n",
       "      .data(graph.links)\n",
       "    .enter().append(\"line\")\n",
       "      .attr(\"class\", \"link\")\n",
       "      .style(\"stroke-width\", function(d) { return Math.sqrt(d.value); });\n",
       "\n",
       "  var node = svg.selectAll(\".node\")\n",
       "      .data(graph.nodes)\n",
       "    .enter().append(\"circle\")\n",
       "      .attr(\"class\", \"node\")\n",
       "      .attr(\"r\", 8)\n",
       "      .style(\"fill\", function(d) { return color(d.group); })\n",
       "      .call(force.drag);\n",
       "\n",
       "  node.append(\"title\")\n",
       "      .text(function(d) { return d.name; });\n",
       "\n",
       "  force.on(\"tick\", function() {\n",
       "    link.attr(\"x1\", function(d) { return d.source.x; })\n",
       "        .attr(\"y1\", function(d) { return d.source.y; })\n",
       "        .attr(\"x2\", function(d) { return d.target.x; })\n",
       "        .attr(\"y2\", function(d) { return d.target.y; });\n",
       "\n",
       "    node.attr(\"cx\", function(d) { return d.x; })\n",
       "        .attr(\"cy\", function(d) { return d.y; });\n",
       "  });\n",
       "  \n",
       "//});\n",
       "\n",
       "\n",
       "                </script>\n",
       "\n",
       "                "
      ],
      "text/plain": [
       "<IPython.core.display.HTML object>"
      ]
     },
     "execution_count": 17,
     "metadata": {},
     "output_type": "execute_result"
    }
   ],
   "source": [
    "# visualize as force-directed graph in D3\n",
    "HTML( d3_lib.set_styles(['force_directed_graph']) + \\\n",
    "      #'<script src=\"lib/d3/d3.min.js\"></script>' + \\\n",
    "      '<script src=\"https://cdnjs.cloudflare.com/ajax/libs/d3/3.5.12/d3.min.js\"></script>' + \\\n",
    "      d3_lib.draw_graph('force_directed_graph', {'data': graph}) )"
   ]
  },
  {
   "cell_type": "markdown",
   "metadata": {},
   "source": [
    "**Notes:**\n",
    "Needed to add \n"
   ]
  }
 ],
 "metadata": {
  "kernelspec": {
   "display_name": "Python 3",
   "language": "python",
   "name": "python3"
  },
  "language_info": {
   "codemirror_mode": {
    "name": "ipython",
    "version": 3
   },
   "file_extension": ".py",
   "mimetype": "text/x-python",
   "name": "python",
   "nbconvert_exporter": "python",
   "pygments_lexer": "ipython3",
   "version": "3.4.3"
  }
 },
 "nbformat": 4,
 "nbformat_minor": 0
}
