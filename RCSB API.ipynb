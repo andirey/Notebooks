{
 "cells": [
  {
   "cell_type": "markdown",
   "metadata": {},
   "source": [
    "## RCSB API ## \n",
    "[reference](http://www.rcsb.org/pdb/software/rest.do#descPDB)"
   ]
  },
  {
   "cell_type": "code",
   "execution_count": 88,
   "metadata": {
    "collapsed": false
   },
   "outputs": [],
   "source": [
    "import json\n",
    "import requests\n",
    "from bs4 import BeautifulSoup\n",
    "import xml\n",
    "import pandas as pd"
   ]
  },
  {
   "cell_type": "code",
   "execution_count": 2,
   "metadata": {
    "collapsed": true
   },
   "outputs": [],
   "source": [
    "pdb_code = \"2YPY\""
   ]
  },
  {
   "cell_type": "code",
   "execution_count": 5,
   "metadata": {
    "collapsed": true
   },
   "outputs": [],
   "source": [
    "base_url = \"http://www.rcsb.org/pdb/rest/\""
   ]
  },
  {
   "cell_type": "code",
   "execution_count": 44,
   "metadata": {
    "collapsed": false
   },
   "outputs": [
    {
     "name": "stdout",
     "output_type": "stream",
     "text": [
      "{\n",
      "  \"status\": \"CURRENT\",\n",
      "  \"pubmedId\": \"24146614\",\n",
      "  \"last_modification_date\": \"2014-01-29\",\n",
      "  \"title\": \"KSHV LANA (ORF73) C-terminal domain, decameric ring: monoclinic crystal form\",\n",
      "  \"deposition_date\": \"2012-11-02\",\n",
      "  \"keywords\": \"VIRAL PROTEIN\",\n",
      "  \"nr_entities\": \"1\",\n",
      "  \"resolution\": \"2.45\",\n",
      "  \"citation_authors\": \"Hellert, J., Weidner-Glunde, M., Krausze, J., Richter, U., Adler, H., Fedorov, R., Pietrek, M., Ruckert, J., Ritter, C., Schulz, T.F., Luhrs, T.\",\n",
      "  \"pubmedCentralId\": \"PMC3798688\",\n",
      "  \"expMethod\": \"X-RAY DIFFRACTION\",\n",
      "  \"nr_atoms\": \"0\",\n",
      "  \"structure_authors\": \"Hellert, J., Krausze, J., Luhrs, T.\",\n",
      "  \"structureId\": \"2YPY\",\n",
      "  \"release_date\": \"2013-11-13\",\n",
      "  \"nr_residues\": \"1390\"\n",
      "}\n"
     ]
    }
   ],
   "source": [
    "url = base_url+\"describePDB?structureId=\"+pdb_code\n",
    "r = requests.get(url)\n",
    "\n",
    "soup= BeautifulSoup(r.content, \"xml\")\n",
    "# print(r.content)\n",
    "#print(soup.prettify)\n",
    "print(json.dumps(soup.PDB.attrs, indent=2))"
   ]
  },
  {
   "cell_type": "code",
   "execution_count": 48,
   "metadata": {
    "collapsed": false
   },
   "outputs": [
    {
     "name": "stdout",
     "output_type": "stream",
     "text": [
      "<?xml version=\"1.0\" encoding=\"utf-8\"?>\n",
      "<entityInfo>\n",
      " <PDB bioAssemblies=\"5\" release_date=\"Wed Nov 13 00:00:00 PST 2013\" resolution=\"2.45\" structureId=\"2YPY\">\n",
      "  <Method name=\"xray\"/>\n",
      "  <Entity id=\"1\" type=\"protein\">\n",
      "   <Chain id=\"A\"/>\n",
      "   <Chain id=\"B\"/>\n",
      "   <Chain id=\"C\"/>\n",
      "   <Chain id=\"D\"/>\n",
      "   <Chain id=\"E\"/>\n",
      "   <Chain id=\"F\"/>\n",
      "   <Chain id=\"G\"/>\n",
      "   <Chain id=\"H\"/>\n",
      "   <Chain id=\"I\"/>\n",
      "   <Chain id=\"J\"/>\n",
      "  </Entity>\n",
      " </PDB>\n",
      "</entityInfo>\n"
     ]
    }
   ],
   "source": [
    "url = base_url+\"getEntityInfo?structureId=\"+pdb_code\n",
    "r = requests.get(url)\n",
    "#print(r.content)\n",
    "soup= BeautifulSoup(r.content, \"xml\")\n",
    "#print(soup.prettify)\n",
    "print(soup.prettify()[0:1000])"
   ]
  },
  {
   "cell_type": "code",
   "execution_count": 53,
   "metadata": {
    "collapsed": false
   },
   "outputs": [
    {
     "name": "stdout",
     "output_type": "stream",
     "text": [
      "<?xml version=\"1.0\" encoding=\"utf-8\"?>\n",
      "<molDescription>\n",
      " <structureId id=\"2YPY\">\n",
      "  <polymer entityNr=\"1\" length=\"139\" type=\"protein\" weight=\"15760.3\">\n",
      "   <chain id=\"A\"/>\n",
      "   <chain id=\"B\"/>\n",
      "   <chain id=\"C\"/>\n",
      "   <chain id=\"D\"/>\n",
      "   <chain id=\"E\"/>\n",
      "   <chain id=\"F\"/>\n",
      "   <chain id=\"G\"/>\n",
      "   <chain id=\"H\"/>\n",
      "   <chain id=\"I\"/>\n",
      "   <chain id=\"J\"/>\n",
      "   <Taxonomy id=\"37296\" name=\"Human herpesvirus 8\"/>\n",
      "   <synonym name=\"KSHV LANA\"/>\n",
      "   <macroMolecule name=\"ORF 73\">\n",
      "    <accession id=\"Q76SB0\"/>\n",
      "   </macroMolecule>\n",
      "   <polymerDescription description=\"ORF 73\"/>\n",
      "   <fragment desc=\"C-TERMINAL DOMAIN, RESIDUES 1013-1149\"/>\n",
      "  </polymer>\n",
      " </structureId>\n",
      "</molDescription>\n"
     ]
    }
   ],
   "source": [
    "url = base_url+\"describeMol?structureId=\"+pdb_code\n",
    "r = requests.get(url)\n",
    "# print(r.content)\n",
    "soup= BeautifulSoup(r.content, \"xml\")\n",
    "#print(soup.prettify)\n",
    "print(soup.prettify()[0:1000])"
   ]
  },
  {
   "cell_type": "markdown",
   "metadata": {},
   "source": [
    "## Data from Custom Reports ##\n",
    "[Reference](http://www.rcsb.org/pdb/results/reportField.do)"
   ]
  },
  {
   "cell_type": "code",
   "execution_count": 90,
   "metadata": {
    "collapsed": false
   },
   "outputs": [
    {
     "name": "stdout",
     "output_type": "stream",
     "text": [
      "http://www.rcsb.org/pdb/rest/customReport.csv?pdbids=1stp,2jef,1cdg&reportName=BiologicalDetails&service=wsfile&format=csv\n"
     ]
    }
   ],
   "source": [
    "report_name = \"BiologicalDetails\"\n",
    "code_list=\"1stp,2jef,1cdg\"\n",
    "url =  (\"http://www.rcsb.org/pdb/rest/customReport.csv?pdbids=\"+\n",
    "       code_list+\n",
    "       \"&reportName=\"+report_name+\n",
    "       \"&service=wsfile&format=csv\")\n",
    "print(url)"
   ]
  },
  {
   "cell_type": "code",
   "execution_count": 91,
   "metadata": {
    "collapsed": true
   },
   "outputs": [],
   "source": [
    "df = pd.read_csv(url)"
   ]
  },
  {
   "cell_type": "code",
   "execution_count": 92,
   "metadata": {
    "collapsed": false
   },
   "outputs": [
    {
     "data": {
      "text/html": [
       "<div>\n",
       "<table border=\"1\" class=\"dataframe\">\n",
       "  <thead>\n",
       "    <tr style=\"text-align: right;\">\n",
       "      <th></th>\n",
       "      <th>structureId</th>\n",
       "      <th>chainId</th>\n",
       "      <th>entityId</th>\n",
       "      <th>compound</th>\n",
       "      <th>source</th>\n",
       "      <th>taxonomyId</th>\n",
       "      <th>biologicalProcess</th>\n",
       "      <th>cellularComponent</th>\n",
       "      <th>molecularFunction</th>\n",
       "      <th>expressionHost</th>\n",
       "      <th>plasmid</th>\n",
       "      <th>ecNo</th>\n",
       "    </tr>\n",
       "  </thead>\n",
       "  <tbody>\n",
       "    <tr>\n",
       "      <th>0</th>\n",
       "      <td>1STP</td>\n",
       "      <td>A</td>\n",
       "      <td>1</td>\n",
       "      <td>STREPTAVIDIN COMPLEX WITH BIOTIN</td>\n",
       "      <td>Streptomyces avidinii</td>\n",
       "      <td>1895</td>\n",
       "      <td>NaN</td>\n",
       "      <td>5576</td>\n",
       "      <td>NaN</td>\n",
       "      <td>NaN</td>\n",
       "      <td>NaN</td>\n",
       "      <td>NaN</td>\n",
       "    </tr>\n",
       "    <tr>\n",
       "      <th>1</th>\n",
       "      <td>2JEF</td>\n",
       "      <td>A</td>\n",
       "      <td>1</td>\n",
       "      <td>DNA POLYMERASE IV</td>\n",
       "      <td>SULFOLOBUS SOLFATARICUS</td>\n",
       "      <td>273057</td>\n",
       "      <td>6260#6261#6281#6974#71897</td>\n",
       "      <td>5737</td>\n",
       "      <td>287#3677#3684#3887#16740#16779#46872</td>\n",
       "      <td>ESCHERICHIA COLI</td>\n",
       "      <td>PET22B/DPO4-NHIS</td>\n",
       "      <td>2.7.7.7</td>\n",
       "    </tr>\n",
       "    <tr>\n",
       "      <th>2</th>\n",
       "      <td>2JEF</td>\n",
       "      <td>P</td>\n",
       "      <td>2</td>\n",
       "      <td>5'-D(*GP*GP*GP*GP*GP*AP*AP*GP*GP*AP*TP*TP*CP*D...</td>\n",
       "      <td>NaN</td>\n",
       "      <td>NaN</td>\n",
       "      <td>NaN</td>\n",
       "      <td>NaN</td>\n",
       "      <td>NaN</td>\n",
       "      <td>NaN</td>\n",
       "      <td>NaN</td>\n",
       "      <td>NaN</td>\n",
       "    </tr>\n",
       "    <tr>\n",
       "      <th>3</th>\n",
       "      <td>2JEF</td>\n",
       "      <td>T</td>\n",
       "      <td>3</td>\n",
       "      <td>5'-D(*TP*CP*AP*CP*BZGP*GP*AP*AP*TP*CP*CP*TP*TP...</td>\n",
       "      <td>NaN</td>\n",
       "      <td>NaN</td>\n",
       "      <td>NaN</td>\n",
       "      <td>NaN</td>\n",
       "      <td>NaN</td>\n",
       "      <td>NaN</td>\n",
       "      <td>NaN</td>\n",
       "      <td>NaN</td>\n",
       "    </tr>\n",
       "    <tr>\n",
       "      <th>4</th>\n",
       "      <td>1CDG</td>\n",
       "      <td>A</td>\n",
       "      <td>1</td>\n",
       "      <td>CYCLODEXTRIN GLYCOSYL-TRANSFERASE</td>\n",
       "      <td>Bacillus circulans</td>\n",
       "      <td>1397</td>\n",
       "      <td>5975</td>\n",
       "      <td>5576</td>\n",
       "      <td>3824#16740#16757#30246#43169#43895#46872#2001070</td>\n",
       "      <td>NaN</td>\n",
       "      <td>NaN</td>\n",
       "      <td>2.4.1.19</td>\n",
       "    </tr>\n",
       "  </tbody>\n",
       "</table>\n",
       "</div>"
      ],
      "text/plain": [
       "  structureId chainId  entityId  \\\n",
       "0        1STP       A         1   \n",
       "1        2JEF       A         1   \n",
       "2        2JEF       P         2   \n",
       "3        2JEF       T         3   \n",
       "4        1CDG       A         1   \n",
       "\n",
       "                                            compound                   source  \\\n",
       "0                   STREPTAVIDIN COMPLEX WITH BIOTIN    Streptomyces avidinii   \n",
       "1                                  DNA POLYMERASE IV  SULFOLOBUS SOLFATARICUS   \n",
       "2  5'-D(*GP*GP*GP*GP*GP*AP*AP*GP*GP*AP*TP*TP*CP*D...                      NaN   \n",
       "3  5'-D(*TP*CP*AP*CP*BZGP*GP*AP*AP*TP*CP*CP*TP*TP...                      NaN   \n",
       "4                  CYCLODEXTRIN GLYCOSYL-TRANSFERASE       Bacillus circulans   \n",
       "\n",
       "   taxonomyId          biologicalProcess  cellularComponent  \\\n",
       "0        1895                        NaN               5576   \n",
       "1      273057  6260#6261#6281#6974#71897               5737   \n",
       "2         NaN                        NaN                NaN   \n",
       "3         NaN                        NaN                NaN   \n",
       "4        1397                       5975               5576   \n",
       "\n",
       "                                  molecularFunction    expressionHost  \\\n",
       "0                                               NaN               NaN   \n",
       "1              287#3677#3684#3887#16740#16779#46872  ESCHERICHIA COLI   \n",
       "2                                               NaN               NaN   \n",
       "3                                               NaN               NaN   \n",
       "4  3824#16740#16757#30246#43169#43895#46872#2001070               NaN   \n",
       "\n",
       "            plasmid      ecNo  \n",
       "0               NaN       NaN  \n",
       "1  PET22B/DPO4-NHIS   2.7.7.7  \n",
       "2               NaN       NaN  \n",
       "3               NaN       NaN  \n",
       "4               NaN  2.4.1.19  "
      ]
     },
     "execution_count": 92,
     "metadata": {},
     "output_type": "execute_result"
    }
   ],
   "source": [
    "df.head()"
   ]
  },
  {
   "cell_type": "code",
   "execution_count": 93,
   "metadata": {
    "collapsed": false
   },
   "outputs": [
    {
     "name": "stdout",
     "output_type": "stream",
     "text": [
      "  structureId chainId    expressionHost  \\\n",
      "0        1STP       A               NaN   \n",
      "1        2JEF       A  ESCHERICHIA COLI   \n",
      "2        2JEF       P               NaN   \n",
      "3        2JEF       T               NaN   \n",
      "4        1CDG       A               NaN   \n",
      "\n",
      "                                            compound  \n",
      "0                   STREPTAVIDIN COMPLEX WITH BIOTIN  \n",
      "1                                  DNA POLYMERASE IV  \n",
      "2  5'-D(*GP*GP*GP*GP*GP*AP*AP*GP*GP*AP*TP*TP*CP*D...  \n",
      "3  5'-D(*TP*CP*AP*CP*BZGP*GP*AP*AP*TP*CP*CP*TP*TP...  \n",
      "4                  CYCLODEXTRIN GLYCOSYL-TRANSFERASE  \n"
     ]
    }
   ],
   "source": [
    "print(df[[\"structureId\", 'chainId', \"expressionHost\", \"compound\"]])"
   ]
  },
  {
   "cell_type": "code",
   "execution_count": 94,
   "metadata": {
    "collapsed": false
   },
   "outputs": [
    {
     "data": {
      "text/html": [
       "<div>\n",
       "<table border=\"1\" class=\"dataframe\">\n",
       "  <thead>\n",
       "    <tr style=\"text-align: right;\">\n",
       "      <th></th>\n",
       "      <th>structureId</th>\n",
       "      <th>chainId</th>\n",
       "      <th>entityId</th>\n",
       "      <th>compound</th>\n",
       "      <th>source</th>\n",
       "      <th>taxonomyId</th>\n",
       "      <th>biologicalProcess</th>\n",
       "      <th>cellularComponent</th>\n",
       "      <th>molecularFunction</th>\n",
       "      <th>expressionHost</th>\n",
       "      <th>plasmid</th>\n",
       "      <th>ecNo</th>\n",
       "    </tr>\n",
       "  </thead>\n",
       "  <tbody>\n",
       "    <tr>\n",
       "      <th>0</th>\n",
       "      <td>1STP</td>\n",
       "      <td>A</td>\n",
       "      <td>1</td>\n",
       "      <td>STREPTAVIDIN COMPLEX WITH BIOTIN</td>\n",
       "      <td>Streptomyces avidinii</td>\n",
       "      <td>1895</td>\n",
       "      <td>NaN</td>\n",
       "      <td>5576</td>\n",
       "      <td>NaN</td>\n",
       "      <td>NaN</td>\n",
       "      <td>NaN</td>\n",
       "      <td>NaN</td>\n",
       "    </tr>\n",
       "    <tr>\n",
       "      <th>1</th>\n",
       "      <td>2JEF</td>\n",
       "      <td>A</td>\n",
       "      <td>1</td>\n",
       "      <td>DNA POLYMERASE IV</td>\n",
       "      <td>SULFOLOBUS SOLFATARICUS</td>\n",
       "      <td>273057</td>\n",
       "      <td>6260#6261#6281#6974#71897</td>\n",
       "      <td>5737</td>\n",
       "      <td>287#3677#3684#3887#16740#16779#46872</td>\n",
       "      <td>ESCHERICHIA COLI</td>\n",
       "      <td>PET22B/DPO4-NHIS</td>\n",
       "      <td>2.7.7.7</td>\n",
       "    </tr>\n",
       "    <tr>\n",
       "      <th>2</th>\n",
       "      <td>2JEF</td>\n",
       "      <td>P</td>\n",
       "      <td>2</td>\n",
       "      <td>5'-D(*GP*GP*GP*GP*GP*AP*AP*GP*GP*AP*TP*TP*CP*D...</td>\n",
       "      <td>NaN</td>\n",
       "      <td>NaN</td>\n",
       "      <td>NaN</td>\n",
       "      <td>NaN</td>\n",
       "      <td>NaN</td>\n",
       "      <td>NaN</td>\n",
       "      <td>NaN</td>\n",
       "      <td>NaN</td>\n",
       "    </tr>\n",
       "    <tr>\n",
       "      <th>3</th>\n",
       "      <td>2JEF</td>\n",
       "      <td>T</td>\n",
       "      <td>3</td>\n",
       "      <td>5'-D(*TP*CP*AP*CP*BZGP*GP*AP*AP*TP*CP*CP*TP*TP...</td>\n",
       "      <td>NaN</td>\n",
       "      <td>NaN</td>\n",
       "      <td>NaN</td>\n",
       "      <td>NaN</td>\n",
       "      <td>NaN</td>\n",
       "      <td>NaN</td>\n",
       "      <td>NaN</td>\n",
       "      <td>NaN</td>\n",
       "    </tr>\n",
       "    <tr>\n",
       "      <th>4</th>\n",
       "      <td>1CDG</td>\n",
       "      <td>A</td>\n",
       "      <td>1</td>\n",
       "      <td>CYCLODEXTRIN GLYCOSYL-TRANSFERASE</td>\n",
       "      <td>Bacillus circulans</td>\n",
       "      <td>1397</td>\n",
       "      <td>5975</td>\n",
       "      <td>5576</td>\n",
       "      <td>3824#16740#16757#30246#43169#43895#46872#2001070</td>\n",
       "      <td>NaN</td>\n",
       "      <td>NaN</td>\n",
       "      <td>2.4.1.19</td>\n",
       "    </tr>\n",
       "  </tbody>\n",
       "</table>\n",
       "</div>"
      ],
      "text/plain": [
       "  structureId chainId  entityId  \\\n",
       "0        1STP       A         1   \n",
       "1        2JEF       A         1   \n",
       "2        2JEF       P         2   \n",
       "3        2JEF       T         3   \n",
       "4        1CDG       A         1   \n",
       "\n",
       "                                            compound                   source  \\\n",
       "0                   STREPTAVIDIN COMPLEX WITH BIOTIN    Streptomyces avidinii   \n",
       "1                                  DNA POLYMERASE IV  SULFOLOBUS SOLFATARICUS   \n",
       "2  5'-D(*GP*GP*GP*GP*GP*AP*AP*GP*GP*AP*TP*TP*CP*D...                      NaN   \n",
       "3  5'-D(*TP*CP*AP*CP*BZGP*GP*AP*AP*TP*CP*CP*TP*TP...                      NaN   \n",
       "4                  CYCLODEXTRIN GLYCOSYL-TRANSFERASE       Bacillus circulans   \n",
       "\n",
       "   taxonomyId          biologicalProcess  cellularComponent  \\\n",
       "0        1895                        NaN               5576   \n",
       "1      273057  6260#6261#6281#6974#71897               5737   \n",
       "2         NaN                        NaN                NaN   \n",
       "3         NaN                        NaN                NaN   \n",
       "4        1397                       5975               5576   \n",
       "\n",
       "                                  molecularFunction    expressionHost  \\\n",
       "0                                               NaN               NaN   \n",
       "1              287#3677#3684#3887#16740#16779#46872  ESCHERICHIA COLI   \n",
       "2                                               NaN               NaN   \n",
       "3                                               NaN               NaN   \n",
       "4  3824#16740#16757#30246#43169#43895#46872#2001070               NaN   \n",
       "\n",
       "            plasmid      ecNo  \n",
       "0               NaN       NaN  \n",
       "1  PET22B/DPO4-NHIS   2.7.7.7  \n",
       "2               NaN       NaN  \n",
       "3               NaN       NaN  \n",
       "4               NaN  2.4.1.19  "
      ]
     },
     "execution_count": 94,
     "metadata": {},
     "output_type": "execute_result"
    }
   ],
   "source": [
    "df"
   ]
  },
  {
   "cell_type": "code",
   "execution_count": 97,
   "metadata": {
    "collapsed": false
   },
   "outputs": [
    {
     "name": "stdout",
     "output_type": "stream",
     "text": [
      "StructureSummary\n",
      "http://www.rcsb.org/pdb/rest/customReport.csv?pdbids=1stp,2jef,1cdg&reportName=StructureSummary&service=wsfile&format=csv\n",
      "Sequence\n",
      "http://www.rcsb.org/pdb/rest/customReport.csv?pdbids=1stp,2jef,1cdg&reportName=Sequence&service=wsfile&format=csv\n",
      "Ligands\n",
      "http://www.rcsb.org/pdb/rest/customReport.csv?pdbids=1stp,2jef,1cdg&reportName=Ligands&service=wsfile&format=csv\n",
      "BindingAffinity\n",
      "http://www.rcsb.org/pdb/rest/customReport.csv?pdbids=1stp,2jef,1cdg&reportName=BindingAffinity&service=wsfile&format=csv\n",
      "BiologicalDetails\n",
      "http://www.rcsb.org/pdb/rest/customReport.csv?pdbids=1stp,2jef,1cdg&reportName=BiologicalDetails&service=wsfile&format=csv\n",
      "ClusterEntity\n",
      "http://www.rcsb.org/pdb/rest/customReport.csv?pdbids=1stp,2jef,1cdg&reportName=ClusterEntity&service=wsfile&format=csv\n",
      "Domains\n",
      "http://www.rcsb.org/pdb/rest/customReport.csv?pdbids=1stp,2jef,1cdg&reportName=Domains&service=wsfile&format=csv\n",
      "Crystallization\n",
      "http://www.rcsb.org/pdb/rest/customReport.csv?pdbids=1stp,2jef,1cdg&reportName=Crystallization&service=wsfile&format=csv\n",
      "UnitCellDimensions\n",
      "http://www.rcsb.org/pdb/rest/customReport.csv?pdbids=1stp,2jef,1cdg&reportName=UnitCellDimensions&service=wsfile&format=csv\n",
      "DataCollectionDetails\n",
      "http://www.rcsb.org/pdb/rest/customReport.csv?pdbids=1stp,2jef,1cdg&reportName=DataCollectionDetails&service=wsfile&format=csv\n",
      "RefinementDetailsrefinementParametersNmrRepresentative\n",
      "http://www.rcsb.org/pdb/rest/customReport.csv?pdbids=1stp,2jef,1cdg&reportName=RefinementDetailsrefinementParametersNmrRepresentative&service=wsfile&format=csv\n",
      "NmrSpectrometer\n",
      "http://www.rcsb.org/pdb/rest/customReport.csv?pdbids=1stp,2jef,1cdg&reportName=NmrSpectrometer&service=wsfile&format=csv\n",
      "NMRExperimentalSampleConditions\n",
      "http://www.rcsb.org/pdb/rest/customReport.csv?pdbids=1stp,2jef,1cdg&reportName=NMRExperimentalSampleConditions&service=wsfile&format=csv\n",
      "NmrSoftware\n",
      "http://www.rcsb.org/pdb/rest/customReport.csv?pdbids=1stp,2jef,1cdg&reportName=NmrSoftware&service=wsfile&format=csv\n",
      "NMRRefinement\n",
      "http://www.rcsb.org/pdb/rest/customReport.csv?pdbids=1stp,2jef,1cdg&reportName=NMRRefinement&service=wsfile&format=csv\n",
      "NmrEnsemble\n",
      "http://www.rcsb.org/pdb/rest/customReport.csv?pdbids=1stp,2jef,1cdg&reportName=NmrEnsemble&service=wsfile&format=csv\n",
      "EMStructure\n",
      "http://www.rcsb.org/pdb/rest/customReport.csv?pdbids=1stp,2jef,1cdg&reportName=EMStructure&service=wsfile&format=csv\n",
      "Citation\n",
      "http://www.rcsb.org/pdb/rest/customReport.csv?pdbids=1stp,2jef,1cdg&reportName=Citation&service=wsfile&format=csv\n",
      "OtherCitations\n",
      "http://www.rcsb.org/pdb/rest/customReport.csv?pdbids=1stp,2jef,1cdg&reportName=OtherCitations&service=wsfile&format=csv\n",
      "SGProject\n",
      "http://www.rcsb.org/pdb/rest/customReport.csv?pdbids=1stp,2jef,1cdg&reportName=SGProject&service=wsfile&format=csv\n"
     ]
    }
   ],
   "source": [
    "report_types = [\"StructureSummary\", \n",
    "                \"Sequence\", \n",
    "                \"Ligands\", \n",
    "                \"BindingAffinity\", \n",
    "                \"BiologicalDetails\", \n",
    "                \"ClusterEntity\", \n",
    "                \"Domains\", \n",
    "                \"Crystallization\", \n",
    "                \"UnitCellDimensions\",\n",
    "                \"DataCollectionDetails\",\n",
    "                \"RefinementDetails\"\n",
    "                \"refinementParameters\"\n",
    "                \"NmrRepresentative\",\n",
    "                \"NmrSpectrometer\",\n",
    "                \"NMRExperimentalSampleConditions\",\n",
    "                \"NmrSoftware\",\n",
    "                \"NMRRefinement\",\n",
    "                \"NmrEnsemble\", \n",
    "                \"EMStructure\",\n",
    "                \"Citation\",\n",
    "                \"OtherCitations\",\n",
    "                \"SGProject\"]\n",
    "\n",
    "code_list=\"1stp,2jef,1cdg\"\n",
    "\n",
    "for report_name in report_types:\n",
    "    print(report_name)\n",
    "    url = (\"http://www.rcsb.org/pdb/rest/customReport.csv?pdbids=\"+\n",
    "       code_list+\n",
    "       \"&reportName=\"+report_name+\n",
    "       \"&service=wsfile&format=csv\")\n",
    "    print(url)\n",
    "    #df = pd.read_csv(url)\n",
    "    #df\n",
    "#     df.head()"
   ]
  }
 ],
 "metadata": {
  "kernelspec": {
   "display_name": "Python 3",
   "language": "python",
   "name": "python3"
  },
  "language_info": {
   "codemirror_mode": {
    "name": "ipython",
    "version": 3
   },
   "file_extension": ".py",
   "mimetype": "text/x-python",
   "name": "python",
   "nbconvert_exporter": "python",
   "pygments_lexer": "ipython3",
   "version": "3.5.1"
  }
 },
 "nbformat": 4,
 "nbformat_minor": 0
}
