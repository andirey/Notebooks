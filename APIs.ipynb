{
 "cells": [
  {
   "cell_type": "code",
   "execution_count": 22,
   "metadata": {
    "collapsed": false
   },
   "outputs": [
    {
     "data": {
      "text/plain": [
       "'{\"apiVersion\":\"2.1\",\"error\":{\"code\":410,\"message\":\"No longer available\",\"errors\":[{\"domain\":\"GData\",\"code\":\"NoLongerAvailableException\",\"internalReason\":\"No longer available\"}]}}'"
      ]
     },
     "execution_count": 22,
     "metadata": {},
     "output_type": "execute_result"
    }
   ],
   "source": [
    "import requests\n",
    "import json\n",
    "\n",
    "r = requests.get(\"http://gdata.youtube.com/feeds/api/standardfeeds/top_rated?v=2&alt=jsonc\")\n",
    "r.text"
   ]
  },
  {
   "cell_type": "code",
   "execution_count": 25,
   "metadata": {
    "collapsed": false
   },
   "outputs": [
    {
     "name": "stdout",
     "output_type": "stream",
     "text": [
      "The slowest run took 6.04 times longer than the fastest. This could mean that an intermediate result is being cached \n",
      "100000 loops, best of 3: 8.97 µs per loop\n",
      "r is a  <class 'requests.models.Response'>\n",
      "r.text is a  <class 'str'>\n",
      "data is a  <class 'dict'>\n"
     ]
    }
   ],
   "source": [
    "%timeit data = json.loads(r.text)\n",
    "\n",
    "data = json.loads(r.text)\n",
    "print (\"r is a \", type(r))\n",
    "print (\"r.text is a \", type(r.text))\n",
    "print (\"data is a \", type(data))"
   ]
  },
  {
   "cell_type": "code",
   "execution_count": null,
   "metadata": {
    "collapsed": true
   },
   "outputs": [],
   "source": []
  },
  {
   "cell_type": "code",
   "execution_count": null,
   "metadata": {
    "collapsed": true
   },
   "outputs": [],
   "source": []
  }
 ],
 "metadata": {
  "kernelspec": {
   "display_name": "Python 3",
   "language": "python",
   "name": "python3"
  },
  "language_info": {
   "codemirror_mode": {
    "name": "ipython",
    "version": 3
   },
   "file_extension": ".py",
   "mimetype": "text/x-python",
   "name": "python",
   "nbconvert_exporter": "python",
   "pygments_lexer": "ipython3",
   "version": "3.4.3"
  }
 },
 "nbformat": 4,
 "nbformat_minor": 0
}
