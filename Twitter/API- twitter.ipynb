{
 "cells": [
  {
   "cell_type": "code",
   "execution_count": 3,
   "metadata": {
    "collapsed": false
   },
   "outputs": [
    {
     "name": "stdout",
     "output_type": "stream",
     "text": [
      "4\n"
     ]
    }
   ],
   "source": [
    "# referece: https://twython.readthedocs.org/en/latest/\n",
    "\n",
    "import json  #read Twitter Key from file\n",
    "from collections import Counter\n",
    "\n",
    "from twython import Twython\n",
    "\n",
    "\n",
    "key_serialized = \"\"\n",
    "with open(\"twitter_api.key\", 'r') as f:\n",
    "    for line in f:\n",
    "        key_serialized += line\n",
    "    \n",
    "key = json.loads(key_serialized)\n",
    "print (len(key))\n",
    "\n",
    "CONSUMER_KEY = key['API Key']\n",
    "CONSUMER_SECRET = key['Consumer Secret']\n",
    "ACCESS_TOKEN = key['Access Token']\n",
    "ACCESS_TOKEN_SECRET = key['Access Token Secret']\n"
   ]
  },
  {
   "cell_type": "code",
   "execution_count": 4,
   "metadata": {
    "collapsed": false
   },
   "outputs": [
    {
     "name": "stdout",
     "output_type": "stream",
     "text": [
      "bryangoodrich : RT @GotDisk: But, in any company, you won't find just one data scientist doing it all https://t.co/ORWdGPjt5I most rational thing I've read…\n",
      "\n",
      "LizKiehne : RT @Informatica: Predicting the Future Based on #BigData – Science Fiction or Fact? https://t.co/d8At0876Yz https://t.co/3A82N33N87\n",
      "\n",
      "esetorialbr : RT: analyticbridge: The most expensive data science textbook https://t.co/LaRoiaiga5\n",
      "\n",
      "jimo1001 : RT @kdnuggets: The Balkanization of #DataScience, #BigData: will it lead to empire or republics? @dataiku https://t.co/OoLucVFZKD https://t…\n",
      "\n",
      "Informatica_RPC : RT @Informatica: Predicting the Future Based on #BigData – Science Fiction or Fact? https://t.co/d8At0876Yz https://t.co/3A82N33N87\n",
      "\n",
      "AlbertoMunoz : RT @analyticbridge: My Data Science book: Chapter 7 completed https://t.co/7BN1rYfwW6\n",
      "\n",
      "AlbertoMunoz : RT @analyticbridge: The most expensive data science textbook https://t.co/m3tewkFQoh\n",
      "\n",
      "AlbertoMunoz : RT @analyticbridge: Data Science, Machine Learning and Big Data Community: Invitation to Join - http://t.co/vkoFd3Aqyt http://t.co/37qUYd9T…\n",
      "\n",
      "GotDisk : But, in any company, you won't find just one data scientist doing it all https://t.co/ORWdGPjt5I most rational thing I've read all week\n",
      "\n",
      "daguilaraguilar : RT @denormalize: Today at #nodeinteractive I announced the WebData project: Documenting the missing things JS needs for data science https:…\n",
      "\n",
      "InformaticaGOSI : RT @Informatica: Predicting the Future Based on #BigData – Science Fiction or Fact? https://t.co/d8At0876Yz https://t.co/3A82N33N87\n",
      "\n",
      "MGuilfoyle : What Is The Profession Of Data Science Really About Now And In The Future? https://t.co/NQedjF3zRP\n",
      "\n",
      "AmazingInfoTech : RT @analyticbridge: The most expensive data science textbook https://t.co/m3tewkFQoh\n",
      "\n",
      "w_epting : RT @Informatica: Predicting the Future Based on #BigData – Science Fiction or Fact? https://t.co/d8At0876Yz https://t.co/3A82N33N87\n",
      "\n",
      "GotDisk : How the Alan Turing Institute is leading research in data science - See more at: https://t.co/30bNmPIC6U\n",
      "\n"
     ]
    }
   ],
   "source": [
    "\n",
    "twitter = Twython(CONSUMER_KEY, CONSUMER_SECRET)\n",
    "\n",
    "# search for tweets containing the phrase \"data science\"\n",
    "\n",
    "for status in twitter.search(q='\"data science\"')[\"statuses\"]:\n",
    "#     user = status[\"user\"][\"screen_name\"].encode('utf-8')\n",
    "#     text = status[\"text\"].encode('utf-8')\n",
    "\n",
    "    # encode not necessary for Python3?\n",
    "    user = status[\"user\"][\"screen_name\"]\n",
    "    text = status[\"text\"]\n",
    "    print (user, \":\", text)\n",
    "\n",
    "#     print (status)\n",
    "    print ()"
   ]
  },
  {
   "cell_type": "code",
   "execution_count": null,
   "metadata": {
    "collapsed": true
   },
   "outputs": [],
   "source": []
  }
 ],
 "metadata": {
  "kernelspec": {
   "display_name": "Python 3",
   "language": "python",
   "name": "python3"
  },
  "language_info": {
   "codemirror_mode": {
    "name": "ipython",
    "version": 3
   },
   "file_extension": ".py",
   "mimetype": "text/x-python",
   "name": "python",
   "nbconvert_exporter": "python",
   "pygments_lexer": "ipython3",
   "version": "3.4.3"
  }
 },
 "nbformat": 4,
 "nbformat_minor": 0
}
