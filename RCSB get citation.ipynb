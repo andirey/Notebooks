{
 "cells": [
  {
   "cell_type": "code",
   "execution_count": 13,
   "metadata": {
    "collapsed": false
   },
   "outputs": [
    {
     "name": "stdout",
     "output_type": "stream",
     "text": [
      "http://www.rcsb.org/pdb/rest/customReport.csv?pdbids=1stp,2jef,1cdg&reportName=BiologicalDetails&service=wsfile&format=csv\n",
      "Citation\n",
      "http://www.rcsb.org/pdb/rest/customReport.csv?pdbids=1stp,2jef,1cdg&reportName=Citation&service=wsfile&format=csv\n",
      "{'1': 'Eoff, R.L., Angel, K.C., Egli, M., Guengerich, F.P.', '0': 'Weber, P.C., Ohlendorf, D.H., Wendoloski, J.J., Salemme, F.R.', '2': 'Lawson, C.L., van Montfort, R., Strokopytov, B., Rozeboom, H.J., Kalk, K.H., de Vries, G.E., Penninga, D., Dijkhuizen, L., Dijkstra, B.W.'}\n"
     ]
    }
   ],
   "source": [
    "import json\n",
    "import requests\n",
    "from bs4 import BeautifulSoup\n",
    "import xml\n",
    "import pandas as pd\n",
    "import time\n",
    "import pprint\n",
    "\n",
    "pd.set_option(\"display.max_rows\",101)\n",
    "pd.set_option('max_colwidth',5000)\n",
    "\n",
    "report_name = \"BiologicalDetails\"\n",
    "code_list=\"1stp,2jef,1cdg\"\n",
    "\n",
    "\n",
    "url =  (\"http://www.rcsb.org/pdb/rest/customReport.csv?pdbids=\"+\n",
    "       code_list+\n",
    "       \"&reportName=\"+report_name+\n",
    "       \"&service=wsfile&format=csv\")\n",
    "print(url)\n",
    "\n",
    "\n",
    "report_types = [\n",
    "                # \"StructureSummary\",\n",
    "                # \"Sequence\",\n",
    "                # \"Ligands\",\n",
    "                # \"BindingAffinity\",\n",
    "                # \"BiologicalDetails\",\n",
    "                # \"ClusterEntity\",\n",
    "                # \"Domains\",\n",
    "                # \"Crystallization\",\n",
    "                # \"UnitCellDimensions\",\n",
    "                # \"DataCollectionDetails\",\n",
    "                # \"RefinementDetails\"\n",
    "                # \"refinementParameters\"\n",
    "                \"Citation\",\n",
    "                # \"OtherCitations\",\n",
    "                # \"SGProject\"\n",
    "                ]\n",
    "\n",
    "code_list=\"1stp,2jef,1cdg\"\n",
    "\n",
    "import urllib\n",
    "\n",
    "def get_RCSB_csv(report_name, code_list):\n",
    "    print(report_name)\n",
    "    url = (\"http://www.rcsb.org/pdb/rest/customReport.csv?pdbids=\"+\n",
    "       code_list+\n",
    "       \"&reportName=\"+report_name+\n",
    "       \"&service=wsfile&format=csv\")\n",
    "    print(url)\n",
    "    try:\n",
    "        df = pd.read_csv(url)\n",
    "        return df\n",
    "    #     print(df.head())\n",
    "    except urllib.error.HTTPError:\n",
    "        print(\"Failed to retreive.\")\n",
    "        return None\n",
    "\n",
    "# for report_name in report_types[9:11]:\n",
    "for report_name in report_types:\n",
    "    df = get_RCSB_csv(report_name, code_list)\n",
    "    #print(df)\n",
    "    num_record = df.shape[0]\n",
    "    data_json = df.to_json()\n",
    "    d2 = json.loads(data_json)\n",
    "\n",
    "    for i in range(num_record):\n",
    "        pass\n",
    "\n",
    "    print(d2['authors'])\n"
   ]
  },
  {
   "cell_type": "code",
   "execution_count": 39,
   "metadata": {
    "collapsed": false
   },
   "outputs": [
    {
     "name": "stdout",
     "output_type": "stream",
     "text": [
      "PDB: 1STP\n",
      "   Structural origins of high-affinity biotin binding to streptavidin.\n",
      "   Weber, P.C., Ohlendorf, D.H., Wendoloski, J.J., Salemme, F.R.\n",
      "   Science v243,  pp85-88. 1989\n",
      "   PMID:  2911722\n",
      "\n",
      "PDB: 2JEF\n",
      "   Molecular Basis of Selectivity of Nucleoside Triphosphate Incorporation Opposite O6-Benzylguanine by Sulfolobus Solfataricus DNA Polymerase Dpo4: Steady-State and Pre-Steady-State Kinetics and X-Ray Crystallography of Correct and Incorrect Pairing.\n",
      "   Eoff, R.L., Angel, K.C., Egli, M., Guengerich, F.P.\n",
      "   J.Biol.Chem. v282, 2007\n",
      "   PMID:  17337730\n",
      "\n",
      "PDB: 1CDG\n",
      "   Nucleotide sequence and X-ray structure of cyclodextrin glycosyltransferase from Bacillus circulans strain 251 in a maltose-dependent crystal form.\n",
      "   Lawson, C.L., van Montfort, R., Strokopytov, B., Rozeboom, H.J., Kalk, K.H., de Vries, G.E., Penninga, D., Dijkhuizen, L., Dijkstra, B.W.\n",
      "   J.Mol.Biol. v236,  pp590-600. 1994\n",
      "   PMID:  8107143\n",
      "\n"
     ]
    }
   ],
   "source": [
    "for i in range(num_record):\n",
    "    print(\"PDB:\",df.loc[i, 'structureId'])\n",
    "    print(\"  \", df.loc[i, 'title'])\n",
    "    print(\"  \", df.loc[i, 'authors'])\n",
    "\n",
    "    print(\"  \", df.loc[i, 'journalName'], end=\"\")\n",
    "        \n",
    "    if pd.notnull(df.loc[i, 'volumeId']):\n",
    "        print(\" v{}, \".format( df.loc[i, 'volumeId']), end=\"\")\n",
    "\n",
    "    if pd.notnull(df.loc[i, 'firstPage']) and pd.notnull(df.loc[i, 'lastPage']): \n",
    "        print(\" pp{}-{}. \".format( df.loc[i, 'firstPage'], int(df.loc[i, 'lastPage']) ), end=\"\")\n",
    "\n",
    "    \n",
    "    print(df.loc[i, 'publicationYear'])\n",
    "    print(\"   PMID: \", df.loc[i, 'pubmedId'])\n",
    "    print()\n"
   ]
  },
  {
   "cell_type": "code",
   "execution_count": 18,
   "metadata": {
    "collapsed": false
   },
   "outputs": [
    {
     "data": {
      "text/plain": [
       "Index(['structureId', 'authors', 'publicationYear', 'title', 'journalName',\n",
       "       'volumeId', 'firstPage', 'lastPage', 'pubmedId', 'pmc', 'doi'],\n",
       "      dtype='object')"
      ]
     },
     "execution_count": 18,
     "metadata": {},
     "output_type": "execute_result"
    }
   ],
   "source": [
    "df.columns"
   ]
  },
  {
   "cell_type": "code",
   "execution_count": null,
   "metadata": {
    "collapsed": true
   },
   "outputs": [],
   "source": []
  }
 ],
 "metadata": {
  "kernelspec": {
   "display_name": "Python 3",
   "language": "python",
   "name": "python3"
  },
  "language_info": {
   "codemirror_mode": {
    "name": "ipython",
    "version": 3
   },
   "file_extension": ".py",
   "mimetype": "text/x-python",
   "name": "python",
   "nbconvert_exporter": "python",
   "pygments_lexer": "ipython3",
   "version": "3.5.1"
  }
 },
 "nbformat": 4,
 "nbformat_minor": 0
}
