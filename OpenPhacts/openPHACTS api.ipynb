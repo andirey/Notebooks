{
 "cells": [
  {
   "cell_type": "markdown",
   "metadata": {},
   "source": [
    "## Testing to openPHACTS API\n",
    "https://dev.openphacts.org/docs/2.0"
   ]
  },
  {
   "cell_type": "code",
   "execution_count": 30,
   "metadata": {
    "collapsed": true
   },
   "outputs": [],
   "source": [
    "import requests\n",
    "import json\n",
    "import xml"
   ]
  },
  {
   "cell_type": "code",
   "execution_count": 9,
   "metadata": {
    "collapsed": false
   },
   "outputs": [
    {
     "name": "stdout",
     "output_type": "stream",
     "text": [
      "2\n"
     ]
    }
   ],
   "source": [
    "# Read key\n",
    "key_serialized = \"\"\n",
    "with open(\"openphacts.key\", 'r') as f:\n",
    "    for line in f:\n",
    "        key_serialized += line\n",
    "    \n",
    "key = json.loads(key_serialized)\n",
    "print (len(key))\n",
    "\n",
    "app_key = key['apikey']\n",
    "app_id = key['application']"
   ]
  },
  {
   "cell_type": "code",
   "execution_count": 78,
   "metadata": {
    "collapsed": false
   },
   "outputs": [],
   "source": [
    "url_root = \"http://beta.openphacts.org/2.0/search/freetext\"\n",
    "return_format = \"json\"\n",
    "query = \"aspirin\"\n",
    "\n",
    "url = (\"{}?app_id={}&app_key={}&_format={}&branch=4&q={}\"\n",
    "       .format(url_root, app_id, app_key, return_format, query))\n",
    "\n",
    "# print(url)\n",
    "# https://beta.openphacts.org/2.0/search/freetext\n",
    "# ?app_id=f101ac21\n",
    "# &app_key=74c27f2377c8041d98015a4096562e4e\n",
    "# &q=aspirin&branch=4&_format=json\n"
   ]
  },
  {
   "cell_type": "code",
   "execution_count": 25,
   "metadata": {
    "collapsed": false
   },
   "outputs": [],
   "source": [
    "r = requests.get(url)"
   ]
  },
  {
   "cell_type": "code",
   "execution_count": 48,
   "metadata": {
    "collapsed": false
   },
   "outputs": [],
   "source": [
    "# print(json.dumps(r.json(), indent=2))"
   ]
  },
  {
   "cell_type": "code",
   "execution_count": 77,
   "metadata": {
    "collapsed": false
   },
   "outputs": [],
   "source": [
    "#print(json.dumps(r.json()['result'], indent=2))"
   ]
  },
  {
   "cell_type": "code",
   "execution_count": 65,
   "metadata": {
    "collapsed": false
   },
   "outputs": [],
   "source": [
    "result = r.json()['result']"
   ]
  },
  {
   "cell_type": "code",
   "execution_count": 75,
   "metadata": {
    "collapsed": false
   },
   "outputs": [],
   "source": [
    "# print(result['_about'])"
   ]
  },
  {
   "cell_type": "code",
   "execution_count": 70,
   "metadata": {
    "collapsed": true
   },
   "outputs": [],
   "source": [
    "r = requests.get(result['_about']).json()"
   ]
  },
  {
   "cell_type": "code",
   "execution_count": 76,
   "metadata": {
    "collapsed": false
   },
   "outputs": [],
   "source": [
    "#print(json.dumps(r['result'], indent=2))\n",
    "# print(r.keys())"
   ]
  }
 ],
 "metadata": {
  "kernelspec": {
   "display_name": "Python 3",
   "language": "python",
   "name": "python3"
  },
  "language_info": {
   "codemirror_mode": {
    "name": "ipython",
    "version": 3
   },
   "file_extension": ".py",
   "mimetype": "text/x-python",
   "name": "python",
   "nbconvert_exporter": "python",
   "pygments_lexer": "ipython3",
   "version": "3.5.1"
  }
 },
 "nbformat": 4,
 "nbformat_minor": 0
}
