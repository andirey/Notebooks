{
 "cells": [
  {
   "cell_type": "code",
   "execution_count": 45,
   "metadata": {
    "collapsed": false
   },
   "outputs": [],
   "source": [
    "users = [\n",
    "    { \"id\":0, \"name\": \"Hero\"},\n",
    "    { \"id\":1, \"name\": \"Dunn\"},\n",
    "    { \"id\":2, \"name\": \"Sue\"},\n",
    "    { \"id\":3, \"name\": \"Chi\"},\n",
    "    { \"id\":4, \"name\": \"Thor\"},\n",
    "    { \"id\":5, \"name\": \"Clive\"},\n",
    "    { \"id\":6, \"name\": \"Hicks\"},\n",
    "    { \"id\":7, \"name\": \"Devin\"},\n",
    "    { \"id\":8, \"name\": \"Kate\"},\n",
    "    { \"id\":9, \"name\": \"Klein\"},\n",
    "]\n",
    "\n",
    "friendships = [(0,1), (0,2), (1,2), (1,3), (2,3), (3,4), \n",
    "               (4,5), (5,6), (5,7), (6,8), (7,8), (8,9)]\n",
    "\n",
    "for user in users:\n",
    "    user[\"friends\"] = []\n",
    "\n",
    "for i,j in friendships:\n",
    "    # this works because users[i] is the user whose id is i\n",
    "    users[i][\"friends\"].append(users[j]) # add i as a friend of j\n",
    "    users[j][\"friends\"].append(users[i]) # add j as a friend of i\n"
   ]
  },
  {
   "cell_type": "code",
   "execution_count": 35,
   "metadata": {
    "collapsed": false
   },
   "outputs": [
    {
     "name": "stdout",
     "output_type": "stream",
     "text": [
      "24\n"
     ]
    }
   ],
   "source": [
    "def number_of_friends(user):\n",
    "    \"\"\"how many friends does _user_ have\"\"\"\n",
    "    return len(user[\"friends\"])  # length of friend_ids list\n",
    "\n",
    "total_connections = sum(number_of_friends(user) \n",
    "                        for user in users)  #24\n",
    "\n",
    "print (total_connections)"
   ]
  },
  {
   "cell_type": "code",
   "execution_count": 36,
   "metadata": {
    "collapsed": false
   },
   "outputs": [
    {
     "name": "stdout",
     "output_type": "stream",
     "text": [
      "2.4\n"
     ]
    }
   ],
   "source": [
    "from __future__ import division # for python 2\n",
    "\n",
    "num_users = len(users)  # length of the users list\n",
    "avg_connections = total_connections / num_users \n",
    "print (avg_connections)"
   ]
  },
  {
   "cell_type": "code",
   "execution_count": 37,
   "metadata": {
    "collapsed": false
   },
   "outputs": [
    {
     "data": {
      "text/plain": [
       "[(1, 3),\n",
       " (2, 3),\n",
       " (3, 3),\n",
       " (5, 3),\n",
       " (8, 3),\n",
       " (0, 2),\n",
       " (4, 2),\n",
       " (6, 2),\n",
       " (7, 2),\n",
       " (9, 1)]"
      ]
     },
     "execution_count": 37,
     "metadata": {},
     "output_type": "execute_result"
    }
   ],
   "source": [
    "# create a list (user_id, number_of_friends) \n",
    "num_friends_by_id = [(user[\"id\"], number_of_friends(user))\n",
    "                     for user in users]\n",
    "\n",
    "# sorted(num_friends_by_id, \n",
    "#        key=lambda (user_id, num_friends): num_friends, \n",
    "#        reverse=True)\n",
    "\n",
    "sorted(num_friends_by_id,\n",
    "       key=lambda person: person[1],\n",
    "       reverse=True)\n"
   ]
  },
  {
   "cell_type": "code",
   "execution_count": 38,
   "metadata": {
    "collapsed": false
   },
   "outputs": [
    {
     "data": {
      "text/plain": [
       "[0, 2, 3, 0, 1, 3]"
      ]
     },
     "execution_count": 38,
     "metadata": {},
     "output_type": "execute_result"
    }
   ],
   "source": [
    "def friends_of_friend_ids_bad(user):\n",
    "    # \"foaf\" is short for \"friend of a friend\"\n",
    "    return [foaf[\"id\"]\n",
    "           for friend in user[\"friends\"]\n",
    "           for foaf in friend[\"friends\"]]\n",
    "\n",
    "friends_of_friend_ids_bad(users[0])"
   ]
  },
  {
   "cell_type": "code",
   "execution_count": 39,
   "metadata": {
    "collapsed": false
   },
   "outputs": [
    {
     "name": "stdout",
     "output_type": "stream",
     "text": [
      "[1, 2]\n",
      "[0, 2, 3]\n",
      "[0, 1, 3]\n"
     ]
    }
   ],
   "source": [
    "print ([friend[\"id\"] for friend in users[0][\"friends\"]])\n",
    "print ([friend[\"id\"] for friend in users[1][\"friends\"]])\n",
    "print ([friend[\"id\"] for friend in users[2][\"friends\"]])"
   ]
  },
  {
   "cell_type": "code",
   "execution_count": 40,
   "metadata": {
    "collapsed": false
   },
   "outputs": [],
   "source": [
    "from collections import Counter\n",
    "\n",
    "def not_the_same(user, other_user):\n",
    "    \"\"\"two user are not the same if they have different ids\"\"\"\n",
    "    return user[\"id\"] != other_user[\"id\"]\n",
    "\n",
    "def not_friends(user, other_user):\n",
    "    \"\"\"other_user is not a friend if hes not in user[\"friends\"]\n",
    "    that is, if he's not_the_same as all the people in user[\"friends\"]\"\"\"\n",
    "    return all(not_the_same(friend, other_user)\n",
    "              for friend in user[\"friends\"])\n",
    "\n",
    "def friends_of_friend_ids(user):\n",
    "    return Counter(foaf[\"id\"]\n",
    "                  for friend in user[\"friends\"]\n",
    "                  for foaf in friend[\"friends\"]\n",
    "                  if not_the_same(user, foaf)\n",
    "                  and not_friends(user, foaf))\n",
    "\n",
    "# print (friends_of_friend_ids(users[3]))\n",
    "# print(users)\n"
   ]
  },
  {
   "cell_type": "code",
   "execution_count": 52,
   "metadata": {
    "collapsed": false
   },
   "outputs": [
    {
     "name": "stdout",
     "output_type": "stream",
     "text": [
      "[2, 7]\n",
      "{'name': 'Sue', 'id': 2, 'friends': [{'name': 'Hero', 'id': 0, 'friends': [{'name': 'Dunn', 'id': 1, 'friends': [{...}, {...}, {'name': 'Chi', 'id': 3, 'friends': [{...}, {...}, {'name': 'Thor', 'id': 4, 'friends': [{...}, {'name': 'Clive', 'id': 5, 'friends': [{...}, {'name': 'Hicks', 'id': 6, 'friends': [{...}, {'name': 'Kate', 'id': 8, 'friends': [{...}, {'name': 'Devin', 'id': 7, 'friends': [{...}, {...}]}, {'name': 'Klein', 'id': 9, 'friends': [{...}]}]}]}, {'name': 'Devin', 'id': 7, 'friends': [{...}, {'name': 'Kate', 'id': 8, 'friends': [{'name': 'Hicks', 'id': 6, 'friends': [{...}, {...}]}, {...}, {'name': 'Klein', 'id': 9, 'friends': [{...}]}]}]}]}]}]}]}, {...}]}, {'name': 'Dunn', 'id': 1, 'friends': [{'name': 'Hero', 'id': 0, 'friends': [{...}, {...}]}, {...}, {'name': 'Chi', 'id': 3, 'friends': [{...}, {...}, {'name': 'Thor', 'id': 4, 'friends': [{...}, {'name': 'Clive', 'id': 5, 'friends': [{...}, {'name': 'Hicks', 'id': 6, 'friends': [{...}, {'name': 'Kate', 'id': 8, 'friends': [{...}, {'name': 'Devin', 'id': 7, 'friends': [{...}, {...}]}, {'name': 'Klein', 'id': 9, 'friends': [{...}]}]}]}, {'name': 'Devin', 'id': 7, 'friends': [{...}, {'name': 'Kate', 'id': 8, 'friends': [{'name': 'Hicks', 'id': 6, 'friends': [{...}, {...}]}, {...}, {'name': 'Klein', 'id': 9, 'friends': [{...}]}]}]}]}]}]}]}, {'name': 'Chi', 'id': 3, 'friends': [{'name': 'Dunn', 'id': 1, 'friends': [{'name': 'Hero', 'id': 0, 'friends': [{...}, {...}]}, {...}, {...}]}, {...}, {'name': 'Thor', 'id': 4, 'friends': [{...}, {'name': 'Clive', 'id': 5, 'friends': [{...}, {'name': 'Hicks', 'id': 6, 'friends': [{...}, {'name': 'Kate', 'id': 8, 'friends': [{...}, {'name': 'Devin', 'id': 7, 'friends': [{...}, {...}]}, {'name': 'Klein', 'id': 9, 'friends': [{...}]}]}]}, {'name': 'Devin', 'id': 7, 'friends': [{...}, {'name': 'Kate', 'id': 8, 'friends': [{'name': 'Hicks', 'id': 6, 'friends': [{...}, {...}]}, {...}, {'name': 'Klein', 'id': 9, 'friends': [{...}]}]}]}]}]}]}]}\n"
     ]
    }
   ],
   "source": [
    "from collections import Counter\n",
    "\n",
    "interests = [\n",
    "    (0, \"Hadoop\"), (0, \"Big Data\"), (0, \"HBase\"), (0, \"Java\"),\n",
    "    (0, \"Spark\"), (0, \"Storm\"), (0, \"Cassandra\"), \n",
    "    (1, \"NoSQL\"), (1, \"MongoDB\"), (1, \"Cassandra\"), (1, \"HBase\"),\n",
    "    (1, \"Postgres\"), (2, \"Python\"), (2, \"scikit-learn\"), (2, \"scipy\"),\n",
    "    (2, \"numpy\"), (2, \"statsmodels\"), (2, \"pandas\"), (3, \"R\"), (3, \"Python\"),\n",
    "    (3, \"statistics\"), (3, \"regression\"), (3, \"probability\"),\n",
    "    (4, \"machine learning\"), (4, \"regression\"), (4, \"decision trees\"), \n",
    "    (4, \"libsvn\"), (5, \"Python\"), (5, \"R\"), (5, \"Java\"), (5, \"C++\"),\n",
    "    (5, \"Haskell\"), (5, \"programming languages\"), (6, \"statistics\"), \n",
    "    (6, \"probability\"), (6, \"mathematics\"), (6, \"theory\"), \n",
    "    (7, \"machine learning\"), (7, 'scikit-learn'), (7, \"Mahout\"), \n",
    "    (7, \"neural networks\"), (8, \"neural networks\"), (8, \"deep learning\"),\n",
    "    (8, \"Big Data\"), (8 , \"artificial intelligence\"), (9, \"Hadoop\"),\n",
    "    (9, \"Java\"), (9, \"MapReduce\"), (9, \"Big Data\")\n",
    "]\n",
    "\n",
    "def data_scientists_who_like(target_interest):\n",
    "    return [user_id\n",
    "           for user_id, user_interest in interests\n",
    "           if user_interest == target_interest]\n",
    "\n",
    "from collections import defaultdict\n",
    "\n",
    "user_ids_by_interest = defaultdict(list)\n",
    "\n",
    "for user_id, interest in interests:\n",
    "    user_ids_by_interest[interest].append(user_id)\n",
    "    \n",
    "interests_by_user_id = defaultdict(list)\n",
    "\n",
    "for user_id, interest in interests:\n",
    "    interests_by_user_id[user_id].append(interest)\n",
    "\n",
    "def most_common_interests_with(user):\n",
    "    return Counter(interested_user_id\n",
    "                  for interest in interests_by_user_id[user[\"id\"]]\n",
    "                  for interested_user_id in user_ids_by_interest[interest]\n",
    "                  if interested_user_if != user[\"id\"])\n",
    "\n",
    "print (data_scientists_who_like(\"scikit-learn\"))\n",
    "print (users[2])\n",
    "# print (type(users))\n",
    "# print (most_common_interests_with(users))"
   ]
  },
  {
   "cell_type": "code",
   "execution_count": 53,
   "metadata": {
    "collapsed": true
   },
   "outputs": [],
   "source": [
    "salaries_and_tenures = [(83000, 8.7), (88000, 8.1),\n",
    "                        (48000, 0.7), (76000, 6),\n",
    "                        (69000, 6.5), (76000, 7.5),\n",
    "                        (60000, 2.5), (83000, 10),\n",
    "                        (48000, 1.9), (63000, 4.2)]"
   ]
  },
  {
   "cell_type": "code",
   "execution_count": 54,
   "metadata": {
    "collapsed": true
   },
   "outputs": [],
   "source": [
    "# keys are years, values are lists of the salaries for each tenure\n",
    "salary_by_tenure = defaultdict(list)\n",
    "\n",
    "for salary, tenure in salaries_and_tenures:\n",
    "    salary_by_tenure[tenure].append(salary)\n",
    "    \n",
    "# keys are years, each value is average salary for the tenure\n",
    "averare_salary_by_tenure = {\n",
    "    tenure : sum(salaries) / len(salaries)\n",
    "    for tenure, salaries in salary_by_tenure.items()\n",
    "}"
   ]
  },
  {
   "cell_type": "code",
   "execution_count": 66,
   "metadata": {
    "collapsed": false
   },
   "outputs": [
    {
     "name": "stdout",
     "output_type": "stream",
     "text": [
      "{'between two and five': 61500.0, 'more than five': 79166.66666666667, 'less than two': 48000.0}\n"
     ]
    }
   ],
   "source": [
    "def tenure_bucket(tenure):\n",
    "    if tenure < 2:\n",
    "        return \"less than two\"\n",
    "    elif tenure < 5:\n",
    "        return \"between two and five\"\n",
    "    else: \n",
    "        return \"more than five\"\n",
    "    \n",
    "# keys are tenure buckets, values are lists of salaries for that bucket\n",
    "salary_by_tenure_bucket = defaultdict(list)\n",
    "\n",
    "for salary, tenure in salaries_and_tenures:\n",
    "    bucket = tenure_bucket(tenure)\n",
    "    salary_by_tenure_bucket[bucket].append(salary)\n",
    "    \n",
    "# keys are tenure buckets, values are average salary for that bucket\n",
    "average_salary_by_bucket = {\n",
    "    tenure_bucket : sum(salaries) / len(salaries)\n",
    "#     for tenure_bucket, salaries in salary_by_tenure_bucket.iteritems()\n",
    "    for tenure_bucket, salaries in salary_by_tenure_bucket.items() # python 3 iteritems is items\n",
    "\n",
    "}\n",
    "\n",
    "print (average_salary_by_bucket)"
   ]
  },
  {
   "cell_type": "markdown",
   "metadata": {},
   "source": [
    "**Topics of Interest**"
   ]
  },
  {
   "cell_type": "code",
   "execution_count": 68,
   "metadata": {
    "collapsed": false
   },
   "outputs": [
    {
     "name": "stdout",
     "output_type": "stream",
     "text": [
      "python 3\n",
      "big 3\n",
      "learning 3\n",
      "java 3\n",
      "data 3\n",
      "cassandra 2\n",
      "probability 2\n",
      "machine 2\n",
      "neural 2\n",
      "statistics 2\n",
      "hadoop 2\n",
      "networks 2\n",
      "scikit-learn 2\n",
      "r 2\n",
      "regression 2\n",
      "hbase 2\n"
     ]
    }
   ],
   "source": [
    "words_and_counts = Counter(word\n",
    "                           for user, interest in interests\n",
    "                          for word in interest.lower().split())\n",
    "for word, count in words_and_counts.most_common():\n",
    "    if count > 1:\n",
    "        print (word, count)"
   ]
  },
  {
   "cell_type": "raw",
   "metadata": {},
   "source": []
  }
 ],
 "metadata": {
  "kernelspec": {
   "display_name": "Python 3",
   "language": "python",
   "name": "python3"
  },
  "language_info": {
   "codemirror_mode": {
    "name": "ipython",
    "version": 3
   },
   "file_extension": ".py",
   "mimetype": "text/x-python",
   "name": "python",
   "nbconvert_exporter": "python",
   "pygments_lexer": "ipython3",
   "version": "3.4.3"
  }
 },
 "nbformat": 4,
 "nbformat_minor": 0
}
