{
 "cells": [
  {
   "cell_type": "markdown",
   "metadata": {},
   "source": [
    "[Protpy](https://code.google.com/p/protpy/)"
   ]
  },
  {
   "cell_type": "code",
   "execution_count": 1,
   "metadata": {
    "collapsed": false
   },
   "outputs": [],
   "source": [
    "from propy import PyPro\n",
    "\n",
    "from propy.GetProteinFromUniprot import GetProteinSequence\n",
    "\n",
    "proteinsequence=GetProteinSequence('Q9NHC3') ##download the protein sequence by uniprot id\n",
    "\n",
    "DesObject=PyPro.GetProDes(proteinsequence) ##construct a GetProDes object"
   ]
  },
  {
   "cell_type": "markdown",
   "metadata": {},
   "source": [
    "1) AAC: amino acid composition descriptors (20)\n",
    "\n",
    "(2) DPC: dipeptide composition descriptors (400)\n",
    "\n",
    "(3) TPC: tri-peptide composition descriptors (8000)\n",
    "\n",
    "(4) MBauto: Normalized Moreau-Broto autocorrelation descriptors (depend on the given properties, the default is 240)\n",
    "\n",
    "(5) Moranauto: Moran autocorrelation descriptors(depend on the given properties, the default is 240)\n",
    "\n",
    "(6) Gearyauto: Geary autocorrelation descriptors(depend on the given properties, the default is 240)\n",
    "\n",
    "(6) CTD: Composition, Transition, Distribution descriptors (CTD) (21+21+105=147)\n",
    "\n",
    "(7) SOCN: sequence order coupling numbers (depend on the choice of maxlag, the default is 60)\n",
    "\n",
    "(8) QSO: quasi-sequence order descriptors (depend on the choice of maxlag, the default is 100)\n",
    "\n",
    "(9) PAAC: pseudo amino acid composition descriptors (depend on the choice of lamda, the default is 50)\n",
    "\n",
    "(10) APAAC: amphiphilic pseudo amino acid composition descriptors(depend on the choice of lamda, the default is 50)"
   ]
  },
  {
   "cell_type": "code",
   "execution_count": 2,
   "metadata": {
    "collapsed": false
   },
   "outputs": [
    {
     "name": "stdout",
     "output_type": "stream",
     "text": [
      "['A', 'C', 'D', 'E', 'F', 'G', 'H', 'I', 'K', 'L', 'M', 'N', 'P', 'Q', 'R', 'S', 'T', 'V', 'W', 'Y']\n"
     ]
    }
   ],
   "source": [
    "# 'AALetter', 'GetAAComp', 'GetAAindex1', 'GetAAindex23', 'GetALL', 'GetAPAAC', \n",
    "# 'GetCTD', 'GetDPComp', 'GetGearyAuto', 'GetGearyAutop', 'GetMoranAuto', 'GetMoranAutop', \n",
    "# 'GetMoreauBrotoAuto', 'GetMoreauBrotoAutop', 'GetPAAC', 'GetPAACp', 'GetQSO', 'GetQSOp', \n",
    "# 'GetSOCN', 'GetSOCNp', 'GetSubSeq', 'GetTPComp', 'ProteinSequence',\n",
    "print(sorted(DesObject.AALetter))"
   ]
  },
  {
   "cell_type": "code",
   "execution_count": 3,
   "metadata": {
    "collapsed": false
   },
   "outputs": [
    {
     "name": "stdout",
     "output_type": "stream",
     "text": [
      "MTTNGFDPFEWRSFYFPGMSREEAHKLLGEPQVSIGTFLMRDSSRPGEYSLTVREADEGNAVCHYLIERGEPKEDGTAAAGVKIANQSFPDIPALLNHFKMRVLTEASLLAAYKKPIIEVVVGTFKFTGERETDLPFEQGERLEILSKTNQDWWEARNALGTTGLVPANYVQIQMEFHNDRTSKGASQSSIGSSGGGAERFSSASTSSDNIELQPRLPAKAKVTFDRVPNAYDPTQLRVKKGQTVLVTQKMSNGMYKAELDGQIGSVPHTYLRFTAVSE\n"
     ]
    }
   ],
   "source": [
    "#print(DesObject.GetAAComp())\n",
    "# print(DesObject.GetAAindex1()) ## didn't work\n",
    "# print(DesObject.GetAAindex23()) ## didn't work\n",
    "# print(DesObject.GetALL())\n",
    "# print(DesObject.GetAPAAC())\n",
    "# print(DesObject.GetCTD())\n",
    "# print(DesObject.GetDPComp())\n",
    "# print(DesObject.GetGearyAuto())\n",
    "# print(DesObject.GetGearyAutop()) ## didn't work\n",
    "# print(DesObject.GetMoranAuto())\n",
    "# print(DesObject.GetMoranAutop()) ## didn't work\n",
    "# print(DesObject.GetMoreauBrotoAuto())\n",
    "# print(DesObject.GetMoreauBrotoAutop()) ## didn't work\n",
    "# print(DesObject.GetPAAC())\n",
    "# print(DesObject.GetPAACp()) ## didn't work\n",
    "# print(DesObject.GetQSO())\n",
    "# print(DesObject.GetQSOp()) ## didn't work\n",
    "# print(DesObject.GetSOCN())\n",
    "# print(DesObject.GetSOCNp()) ## didn't work\n",
    "# print(DesObject.GetSubSeq())\n",
    "# print(DesObject.GetTPComp())\n",
    "print(DesObject.ProteinSequence)"
   ]
  },
  {
   "cell_type": "code",
   "execution_count": 4,
   "metadata": {
    "collapsed": false
   },
   "outputs": [
    {
     "name": "stdout",
     "output_type": "stream",
     "text": [
      "{'MoreauBrotoAuto_ResidueVol4': 0.147, 'QH': 0.0, 'GearyAuto_ResidueASA24': 0.87, 'MoranAuto_FreeEnergy9': -0.02, 'tausw38': 85.135, 'MoranAuto_Polarizability14': -0.051, 'MoreauBrotoAuto_Steric8': 0.027, 'DF': 0.0, 'LQ': 0.36, 'GearyAuto_FreeEnergy22': 1.042, 'APAAC9': 2.063, 'MoreauBrotoAuto_Polarizability9': 0.164, 'taugrant2': 98.76, 'QSOgrant17': 0.000249, 'Q': 4.301, 'GearyAuto_FreeEnergy20': 1.017, 'QSOgrant50': 0.033371, 'GearyAuto_FreeEnergy25': 0.981, 'NS': 0.0, 'NQ': 0.72, 'GearyAuto_ResidueVol6': 1.041, 'GearyAuto_Steric16': 1.089, '_SecondaryStrD3100': 99.642, 'HY': 0.36, 'AC': 0.0, 'FL': 0.36, 'MoranAuto_Steric3': 0.063, 'IS': 0.0, 'DV': 0.0, 'MoreauBrotoAuto_AvFlexibility4': 0.03, 'MoranAuto_ResidueVol3': 0.077, 'RC': 0.0, 'MoreauBrotoAuto_Hydrophobicity14': 0.023, 'RR': 0.0, 'MoreauBrotoAuto_Polarizability23': 0.166, 'tausw29': 85.953, 'GN': 0.36, 'QS': 0.72, 'MoreauBrotoAuto_FreeEnergy22': 0.041, 'LC': 0.0, 'AQ': 0.0, 'DM': 0.0, 'MoranAuto_ResidueASA23': 0.073, 'FC': 0.0, 'IN': 0.0, 'MoreauBrotoAuto_Steric27': 0.065, 'CL': 0.0, 'WT': 0.0, 'QSOSW8': 0.000284, 'MoreauBrotoAuto_Mutability8': 0.1, 'SN': 0.36, 'MoreauBrotoAuto_AvFlexibility29': 0.057, 'GearyAuto_Polarizability14': 1.026, 'MoranAuto_ResidueASA28': 0.048, '_PolarizabilityD2025': 25.448, 'WV': 0.0, 'DS': 0.36, 'H': 1.792, 'S': 8.244, 'ND': 0.36, '_PolarityD1001': 0, 'SK': 0.72, 'GearyAuto_ResidueASA9': 1.047, '_NormalizedVDWVC3': 0.244, 'MoranAuto_AvFlexibility7': -0.063, 'FH': 0.36, 'QSOSW9': 6.2e-05, 'QSOgrant49': 0.029724, 'MoranAuto_ResidueASA21': -0.085, '_PolarityD1025': 0, 'MoranAuto_AvFlexibility15': 0.027, '_HydrophobicityD3075': 72.043, 'taugrant7': 101.412, 'QSOgrant30': 0.033305, 'MoreauBrotoAuto_FreeEnergy3': 0.04, 'APAAC6': 9.492, 'GearyAuto_Steric12': 0.973, 'WA': 0.0, 'GearyAuto_Polarizability4': 0.988, '_SolventAccessibilityD3001': 0.358, 'taugrant10': 96.307, 'PAAC36': -0.461, 'GearyAuto_Mutability13': 1.058, '_PolarityD2075': 75.986, 'TT': 0.72, 'F': 5.018, 'MoranAuto_ResidueVol1': 0.092, 'MoreauBrotoAuto_Mutability24': 0.114, 'GearyAuto_ResidueASA13': 0.962, 'MoranAuto_ResidueASA27': -0.003, 'WM': 0.0, 'taugrant13': 97.521, 'MoranAuto_Mutability25': 0.028, 'MoreauBrotoAuto_ResidueVol14': 0.147, 'MoreauBrotoAuto_Steric25': 0.051, 'MoreauBrotoAuto_AvFlexibility9': 0.042, 'PAAC27': 0.115, 'CI': 0.0, '_SecondaryStrD3050': 54.48, 'MoranAuto_Hydrophobicity19': -0.002, 'AN': 0.72, 'FM': 0.0, '_PolarityD2001': 1.434, 'MoranAuto_Mutability6': -0.021, 'GearyAuto_FreeEnergy11': 1.02, 'KQ': 0.0, 'EL': 0.72, 'tausw27': 91.05, 'WL': 0.0, 'DW': 0.36, 'PAAC34': -0.403, 'PS': 0.0, 'GearyAuto_ResidueVol15': 1.036, 'GearyAuto_ResidueVol24': 0.889, 'MoreauBrotoAuto_ResidueVol28': 0.141, 'RW': 0.0, 'GG': 0.36, 'GearyAuto_Mutability5': 1.018, 'NN': 0.0, 'HI': 0.0, 'APAAC20': 7.016, 'LK': 0.0, 'GearyAuto_Steric14': 1.079, 'DA': 0.0, 'MoranAuto_Polarizability26': 0.071, 'TW': 0.0, 'QSOSW26': 0.036716, 'WS': 0.0, 'MoreauBrotoAuto_Mutability19': 0.108, 'GearyAuto_ResidueVol13': 0.976, 'GearyAuto_FreeEnergy21': 0.931, 'MR': 0.72, 'ME': 0.36, 'GearyAuto_ResidueASA11': 0.895, 'MoreauBrotoAuto_ResidueASA14': 0.163, 'QSOgrant18': 3.8e-05, '_SecondaryStrC3': 0.301, 'CT': 0.0, 'RT': 0.36, 'GearyAuto_Hydrophobicity20': 1.016, 'MoreauBrotoAuto_AvFlexibility10': 0.042, 'MoranAuto_AvFlexibility1': -0.033, 'GearyAuto_ResidueVol28': 0.939, 'MoranAuto_ResidueASA1': 0.099, '_SolventAccessibilityD3100': 99.642, '_PolarizabilityD1075': 73.477, 'tausw35': 92.008, 'TP': 0.0, 'MoreauBrotoAuto_Steric1': 0.025, 'GS': 0.72, 'MoreauBrotoAuto_Steric2': 0.026, 'MoreauBrotoAuto_Polarizability17': 0.165, 'GearyAuto_FreeEnergy28': 0.965, 'K': 5.376, 'MoreauBrotoAuto_Steric15': 0.025, 'MoreauBrotoAuto_ResidueVol3': 0.147, 'tausw33': 85.224, 'MoreauBrotoAuto_Polarizability11': 0.17, 'PAAC23': 1.957, 'HT': 0.36, 'MoreauBrotoAuto_FreeEnergy1': 0.039, 'GearyAuto_FreeEnergy14': 0.949, 'MoranAuto_ResidueVol13': 0.017, 'FY': 0.36, 'MoranAuto_ResidueASA13': 0.029, 'KH': 0.0, 'MoranAuto_FreeEnergy25': -0.026, 'tausw13': 97.521, 'MoranAuto_Hydrophobicity29': -0.045, 'MoranAuto_Polarizability16': 0.074, 'taugrant19': 90.879, 'YV': 0.36, 'MoreauBrotoAuto_Steric9': 0.025, 'MQ': 0.0, '_PolarizabilityD2001': 1.434, 'GearyAuto_FreeEnergy16': 0.949, 'DQ': 0.0, 'CF': 0.0, 'KC': 0.0, 'VW': 0.0, 'GearyAuto_ResidueASA17': 1.005, 'QSOgrant42': 0.034957, 'MoranAuto_ResidueASA24': 0.105, 'MoranAuto_FreeEnergy20': -0.047, 'HE': 0.0, 'MoranAuto_Polarizability11': 0.079, 'GearyAuto_ResidueASA28': 0.928, 'MoranAuto_Polarizability1': 0.109, '_PolarityD1050': 0, 'MoranAuto_AvFlexibility20': -0.197, 'QSOgrant33': 0.033725, 'MoreauBrotoAuto_Hydrophobicity2': 0.005, 'LM': 0.36, 'MoranAuto_FreeEnergy8': 0.101, 'taugrant27': 91.05, 'CV': 0.0, 'VG': 0.36, 'MoreauBrotoAuto_ResidueVol24': 0.143, 'QSOgrant11': 0.000259, 'MoreauBrotoAuto_ResidueASA15': 0.152, 'QSOSW29': 0.036122, 'MoranAuto_ResidueVol20': -0.12, 'FP': 0.72, '_NormalizedVDWVT12': 0.299, 'tausw22': 101.084, 'GearyAuto_Mutability20': 0.936, 'MS': 0.72, 'MoranAuto_Mutability14': 0.004, '_PolarizabilityC1': 0.358, 'APAAC5': 0.412, 'QSOgrant46': 0.030673, '_SolventAccessibilityD2001': 1.434, 'tausw26': 88.696, 'HD': 0.0, '_HydrophobicityD1025': 25.448, 'MoranAuto_AvFlexibility6': -0.068, 'MoranAuto_Polarizability5': 0.069, 'taugrant20': 98.752, 'NR': 0.0, 'YI': 0.0, 'IV': 0.0, 'MoranAuto_FreeEnergy5': 0.03, 'MoranAuto_Mutability20': 0.094, 'MoreauBrotoAuto_AvFlexibility14': 0.052, 'MoreauBrotoAuto_ResidueVol8': 0.143, '_PolarizabilityD1100': 99.642, 'NF': 0.0, 'MoranAuto_FreeEnergy4': -0.011, 'MoranAuto_ResidueASA14': -0.07, 'taugrant26': 88.696, 'MoreauBrotoAuto_ResidueVol19': 0.138, 'MoreauBrotoAuto_Hydrophobicity17': 0.034, 'MoreauBrotoAuto_Mutability15': 0.105, 'MoreauBrotoAuto_Hydrophobicity9': 0.014, 'MoranAuto_ResidueASA20': -0.096, 'MoreauBrotoAuto_ResidueASA12': 0.164, 'GH': 0.0, 'tausw8': 106.069, 'GearyAuto_ResidueASA21': 1.061, 'NC': 0.0, 'SC': 0.0, 'GearyAuto_FreeEnergy15': 0.931, 'MoranAuto_Mutability7': -0.007, 'PAAC40': 2.188, '_HydrophobicityD2001': 0.717, 'MoreauBrotoAuto_Steric12': 0.028, 'MoreauBrotoAuto_ResidueASA11': 0.162, 'PAAC32': -2.706, '_PolarityT23': 0.176, 'taugrant25': 99.273, 'GearyAuto_Polarizability7': 1.031, 'MoreauBrotoAuto_Steric21': 0.05, 'GearyAuto_Steric13': 0.921, 'MoreauBrotoAuto_Steric3': 0.027, 'MoreauBrotoAuto_AvFlexibility21': 0.04, 'GearyAuto_AvFlexibility21': 0.931, 'MoreauBrotoAuto_FreeEnergy28': 0.043, 'GearyAuto_AvFlexibility5': 0.915, 'YG': 0.0, 'VN': 0.0, 'MoranAuto_Steric19': -0.176, 'KN': 0.0, 'GK': 0.0, 'QSOgrant7': 0.000149, 'GT': 1.44, 'MoreauBrotoAuto_ResidueVol15': 0.136, 'RD': 0.36, 'MV': 0.0, 'GearyAuto_Steric27': 1.042, 'taugrant12': 95.324, 'MoreauBrotoAuto_Mutability12': 0.102, 'TK': 0.0, 'GearyAuto_AvFlexibility10': 0.957, 'PAAC9': 0.898, 'QSOgrant23': 0.03496, 'MoreauBrotoAuto_Polarizability1': 0.171, 'PAAC24': 4.03, 'MoranAuto_FreeEnergy17': -0.059, 'APAAC18': 1.238, 'APAAC12': 6.19, 'MoreauBrotoAuto_ResidueASA25': 0.157, 'FR': 0.0, 'MoreauBrotoAuto_Hydrophobicity28': 0.03, 'MoreauBrotoAuto_AvFlexibility16': 0.045, 'RK': 0.0, 'FD': 0.72, 'CD': 0.0, 'GearyAuto_ResidueASA7': 1.01, 'PA': 1.08, 'WQ': 0.0, 'MoranAuto_ResidueVol30': -0.074, 'MoreauBrotoAuto_Steric24': 0.051, 'MoranAuto_FreeEnergy16': 0.021, 'KW': 0.0, 'EK': 0.0, 'PAAC22': -2.245, 'GearyAuto_Polarizability3': 0.919, 'HW': 0.0, 'RL': 0.72, '_SolventAccessibilityD2100': 100.0, 'TG': 0.72, 'MoreauBrotoAuto_Hydrophobicity29': 0.034, 'MoranAuto_AvFlexibility16': 0.13, 'MoreauBrotoAuto_Polarizability5': 0.165, 'GW': 0.0, '_NormalizedVDWVD3100': 98.208, 'AM': 0.0, 'MoreauBrotoAuto_AvFlexibility17': 0.044, 'PAAC17': 3.59, 'GearyAuto_Hydrophobicity28': 0.908, 'QY': 0.0, 'GearyAuto_ResidueASA2': 0.967, 'MoreauBrotoAuto_ResidueASA16': 0.154, 'MoreauBrotoAuto_ResidueVol27': 0.143, 'tausw42': 81.766, 'GearyAuto_Hydrophobicity19': 0.985, 'GearyAuto_ResidueVol29': 0.928, 'GearyAuto_Steric2': 0.998, 'MoreauBrotoAuto_Steric19': 0.053, 'KE': 0.36, 'GearyAuto_AvFlexibility28': 1.004, 'APAAC10': 4.54, 'MoranAuto_Polarizability8': -0.129, 'HN': 0.36, 'IK': 0.0, 'MoranAuto_Hydrophobicity1': -0.048, 'MoreauBrotoAuto_AvFlexibility27': 0.052, 'MoreauBrotoAuto_ResidueVol10': 0.144, '_HydrophobicityT12': 0.273, 'MoreauBrotoAuto_Steric10': 0.026, 'MoranAuto_Hydrophobicity30': -0.06, 'PAAC10': 1.975, 'MoreauBrotoAuto_Mutability30': 0.118, 'APAAC17': 8.253, 'MoranAuto_AvFlexibility4': -0.134, '_NormalizedVDWVD1001': 0.717, 'QSOSW20': 0.000211, 'MoranAuto_FreeEnergy13': -0.017, 'HC': 0.0, 'ML': 0.0, 'tausw10': 96.307, 'GearyAuto_FreeEnergy3': 1.069, 'GearyAuto_Steric21': 0.999, 'QSOgrant35': 0.033367, 'QSOSW12': 0.000187, 'MoreauBrotoAuto_Hydrophobicity18': 0.029, 'RP': 0.36, 'MoreauBrotoAuto_Steric4': 0.028, 'GearyAuto_ResidueASA4': 0.976, 'MoranAuto_ResidueASA10': 0.019, 'QSOgrant15': 0.000187, 'MoreauBrotoAuto_Mutability6': 0.1, 'GearyAuto_FreeEnergy30': 1.094, 'QSOSW50': 0.033371, 'MoranAuto_ResidueVol6': -0.047, 'GearyAuto_ResidueASA27': 0.977, 'LN': 0.36, 'GearyAuto_Polarizability22': 1.032, 'MoreauBrotoAuto_Steric23': 0.051, '_PolarizabilityD2050': 48.746, 'WN': 0.0, '_PolarizabilityD3100': 98.208, 'MF': 0.0, 'QSOSW35': 0.033367, 'MoreauBrotoAuto_AvFlexibility7': 0.038, 'WP': 0.0, 'SY': 0.0, 'PM': 0.0, 'SL': 0.72, 'PF': 0.72, 'GearyAuto_ResidueASA19': 1.029, 'MoranAuto_FreeEnergy27': -0.061, 'MoreauBrotoAuto_Hydrophobicity10': 0.018, 'MoreauBrotoAuto_Hydrophobicity22': 0.035, 'IG': 1.08, 'NY': 0.36, 'GearyAuto_Mutability23': 1.033, 'taugrant31': 90.266, 'MoranAuto_Steric15': -0.088, 'MoreauBrotoAuto_Hydrophobicity7': 0.016, 'GearyAuto_Hydrophobicity26': 0.916, 'MoranAuto_FreeEnergy7': 0.008, 'GearyAuto_Polarizability27': 0.926, 'MoreauBrotoAuto_FreeEnergy16': 0.037, 'GearyAuto_Polarizability13': 0.981, 'GearyAuto_Steric20': 1.054, 'QSOgrant24': 0.032629, 'MoreauBrotoAuto_ResidueASA27': 0.159, 'CQ': 0.0, 'PV': 0.0, 'MoranAuto_ResidueASA5': 0.04, 'tausw39': 92.815, 'MoranAuto_ResidueASA16': 0.093, 'GearyAuto_Hydrophobicity8': 0.961, 'GearyAuto_Mutability28': 0.976, 'RF': 0.72, 'FG': 0.0, 'MoreauBrotoAuto_ResidueVol13': 0.146, 'PAAC7': 2.154, 'MoreauBrotoAuto_Mutability23': 0.12, 'MoreauBrotoAuto_Hydrophobicity26': 0.037, 'GearyAuto_ResidueASA6': 1.027, 'QSOgrant19': 0.0001, 'MoranAuto_Polarizability9': -0.051, 'MoranAuto_ResidueASA12': 0.047, 'MoranAuto_ResidueVol11': 0.099, '_HydrophobicityD3001': 0.358, '_NormalizedVDWVD2050': 49.821, 'MoranAuto_Mutability2': -0.043, 'MoranAuto_ResidueASA4': 0.025, 'QSOSW16': 0.000284, 'GearyAuto_Mutability17': 0.871, 'QSOgrant14': 0.000173, 'MoreauBrotoAuto_Steric22': 0.05, 'GearyAuto_Steric1': 0.998, 'QSOSW48': 0.02908, 'MoreauBrotoAuto_ResidueVol5': 0.145, 'MoreauBrotoAuto_FreeEnergy24': 0.044, 'CH': 0.36, '_NormalizedVDWVC1': 0.412, 'MoreauBrotoAuto_AvFlexibility11': 0.043, 'tausw9': 104.453, 'PAAC15': 2.693, 'KG': 0.72, 'MoreauBrotoAuto_FreeEnergy20': 0.039, '_NormalizedVDWVD2100': 100.0, 'PW': 0.0, 'QG': 0.36, '_NormalizedVDWVD1050': 53.405, 'QW': 0.0, 'KF': 0.36, 'TM': 0.0, 'WK': 0.0, 'tausw6': 106.171, 'AK': 0.72, 'AT': 0.0, 'QSOgrant40': 0.034151, 'MoranAuto_ResidueASA9': -0.053, 'taugrant23': 87.397, '_SecondaryStrD1075': 75.986, 'MoreauBrotoAuto_Polarizability14': 0.171, 'GearyAuto_Hydrophobicity24': 0.974, 'QSOSW49': 0.029724, 'MoreauBrotoAuto_Polarizability4': 0.168, '_PolarizabilityD3075': 77.419, 'MoreauBrotoAuto_AvFlexibility18': 0.039, 'QR': 0.0, 'FS': 0.36, 'MoranAuto_ResidueVol9': -0.028, 'GearyAuto_Steric6': 1.07, 'QSOgrant10': 0.000135, 'VP': 1.08, 'MoranAuto_Steric21': -0.006, 'APAAC1': 9.079, '_HydrophobicityD1001': 1.434, 'MoranAuto_Polarizability25': -0.114, 'IM': 0.0, 'GearyAuto_Steric23': 0.942, 'QSOSW43': 0.030224, 'CS': 0.0, 'VT': 0.72, 'PAAC33': -5.642, 'MoranAuto_Polarizability10': 0.019, 'QL': 0.36, 'GearyAuto_Mutability8': 1.109, 'GearyAuto_AvFlexibility22': 1.013, 'GearyAuto_Hydrophobicity17': 0.919, 'MoranAuto_ResidueVol7': 0.012, 'MoranAuto_ResidueVol2': 0.008, 'GearyAuto_Polarizability29': 0.912, 'L': 7.527, 'HF': 0.36, 'QSOSW32': 0.032965, 'GearyAuto_Mutability15': 1.068, 'taugrant5': 104.917, 'MoranAuto_FreeEnergy22': -0.072, 'GearyAuto_Hydrophobicity1': 1.039, 'GearyAuto_Polarizability18': 0.956, 'MoranAuto_Mutability29': -0.181, 'MoranAuto_Hydrophobicity6': -0.052, 'QN': 0.0, 'GA': 0.72, '_SecondaryStrD2001': 0.717, 'PAAC39': 1.497, 'TE': 0.36, 'GearyAuto_Hydrophobicity3': 1.001, '_HydrophobicityD3025': 22.581, 'GearyAuto_ResidueVol2': 0.989, 'PAAC29': -0.864, 'WD': 0.0, 'PG': 0.72, 'MoranAuto_Steric29': 0.041, 'QSOSW5': 1.4e-05, 'RE': 1.08, 'taugrant15': 96.485, 'MoreauBrotoAuto_Hydrophobicity3': 0.009, 'GearyAuto_Hydrophobicity10': 0.907, 'FF': 0.0, 'MoranAuto_ResidueASA6': -0.031, 'IR': 0.0, 'GM': 0.72, 'GD': 0.0, 'LH': 0.0, 'NG': 0.72, 'SV': 0.36, 'MoreauBrotoAuto_ResidueASA22': 0.158, 'GearyAuto_ResidueASA18': 0.955, 'PC': 0.0, 'MoranAuto_Mutability30': 0.032, 'HH': 0.0, 'PAAC14': 2.514, 'GearyAuto_Steric25': 1.077, 'PAAC20': 3.052, 'MoreauBrotoAuto_FreeEnergy7': 0.041, 'MoreauBrotoAuto_AvFlexibility28': 0.05, 'KM': 0.72, 'MoreauBrotoAuto_Polarizability27': 0.164, 'EG': 0.36, 'MoranAuto_ResidueVol10': 0.036, 'GearyAuto_FreeEnergy1': 1.024, 'MoreauBrotoAuto_Hydrophobicity16': 0.026, 'PQ': 0.36, 'GearyAuto_Mutability30': 0.964, 'APAAC8': 9.492, 'MoreauBrotoAuto_Steric11': 0.027, 'LL': 1.08, '_SolventAccessibilityC1': 0.401, 'WH': 0.0, 'MoranAuto_FreeEnergy26': 0.13, 'QSOSW25': 0.036283, 'MoranAuto_AvFlexibility8': -0.046, 'GearyAuto_Steric30': 1.021, 'MoreauBrotoAuto_Mutability1': 0.103, 'RH': 0.0, 'PAAC2': 2.873, 'MoreauBrotoAuto_FreeEnergy21': 0.039, 'CN': 0.0, 'MoranAuto_Mutability21': 0.013, 'MoreauBrotoAuto_Steric13': 0.031, 'MoranAuto_Steric14': -0.063, 'GearyAuto_ResidueVol20': 1.097, 'PAAC18': 0.538, 'GearyAuto_AvFlexibility23': 0.909, 'tausw19': 90.879, 'VK': 0.72, 'GearyAuto_AvFlexibility9': 0.981, '_PolarityD2050': 48.746, 'GearyAuto_AvFlexibility20': 1.164, '_SecondaryStrT23': 0.158, 'IF': 0.0, 'RG': 0.36, 'QSOgrant1': 0.000273, 'GearyAuto_Mutability14': 1.012, 'GearyAuto_Hydrophobicity16': 0.969, 'KL': 0.36, 'GearyAuto_FreeEnergy18': 1.004, 'HR': 0.0, 'MoreauBrotoAuto_FreeEnergy2': 0.041, 'MoranAuto_ResidueASA19': -0.053, 'MY': 0.36, 'MoranAuto_Polarizability15': -0.024, 'GearyAuto_Hydrophobicity30': 1.05, 'PAAC5': 0.179, 'GearyAuto_FreeEnergy2': 1.079, 'VF': 0.0, 'GearyAuto_Steric28': 0.978, 'NI': 0.36, 'MoranAuto_ResidueVol19': -0.066, 'EW': 0.36, 'YM': 0.0, 'CW': 0.0, '_HydrophobicityC2': 0.416, 'QSOSW13': 8.6e-05, 'tausw2': 98.76, 'SW': 0.0, 'tausw37': 99.641, 'KS': 0.0, 'GearyAuto_Mutability7': 1.011, 'VA': 0.0, 'GearyAuto_AvFlexibility25': 1.018, 'QSOSW15': 0.000187, '_SolventAccessibilityT13': 0.241, '_NormalizedVDWVT23': 0.14, 'MoreauBrotoAuto_Hydrophobicity5': 0.009, 'MoranAuto_Steric2': 0.001, 'tausw16': 87.808, 'MoranAuto_ResidueASA11': 0.095, '_NormalizedVDWVD2025': 26.523, 'QV': 0.36, 'PT': 0.36, 'QSOSW6': 0.000284, 'GearyAuto_ResidueASA16': 0.889, '_PolarizabilityC2': 0.398, 'QSOSW19': 0.0001, 'APAAC7': 4.952, 'MoreauBrotoAuto_FreeEnergy25': 0.045, 'DC': 0.0, 'QA': 0.0, '_PolarizabilityD3001': 0.358, 'GearyAuto_ResidueVol21': 1.015, 'MoranAuto_AvFlexibility17': -0.108, 'MoreauBrotoAuto_Polarizability2': 0.17, 'MoreauBrotoAuto_Polarizability12': 0.172, 'taugrant41': 87.813, 'NM': 0.0, 'MoreauBrotoAuto_ResidueASA30': 0.161, 'WF': 0.0, 'MoreauBrotoAuto_Mutability29': 0.111, 'MoreauBrotoAuto_ResidueASA28': 0.159, 'PI': 0.36, 'MoreauBrotoAuto_FreeEnergy14': 0.039, 'QSOSW4': 0.000149, 'MoreauBrotoAuto_Polarizability21': 0.163, 'GearyAuto_ResidueVol30': 1.05, 'MoranAuto_ResidueVol24': 0.091, 'MoreauBrotoAuto_ResidueASA6': 0.158, '_SecondaryStrD2050': 45.878, '_HydrophobicityD2100': 99.642, '_SolventAccessibilityC2': 0.319, 'GearyAuto_ResidueASA25': 1.095, 'MoranAuto_Hydrophobicity3': -0.008, 'MoranAuto_ResidueVol26': 0.065, 'QSOSW18': 3.8e-05, 'MoreauBrotoAuto_Polarizability28': 0.162, 'tausw11': 94.764, 'DP': 0.72, 'GearyAuto_ResidueVol27': 0.934, 'MoreauBrotoAuto_AvFlexibility20': 0.037, 'MoreauBrotoAuto_AvFlexibility12': 0.048, 'MoranAuto_Hydrophobicity21': -0.013, 'MoranAuto_Steric18': 0.035, 'SG': 0.36, 'MoranAuto_AvFlexibility27': 0.012, 'GearyAuto_Hydrophobicity2': 0.942, 'GearyAuto_FreeEnergy4': 1.014, 'NK': 0.0, 'MoranAuto_AvFlexibility21': 0.039, 'MoranAuto_AvFlexibility30': -0.11, 'MoranAuto_Polarizability29': 0.053, 'MoranAuto_ResidueASA3': 0.069, '_PolarizabilityT13': 0.151, 'MoreauBrotoAuto_Hydrophobicity8': 0.018, '_HydrophobicityD1075': 75.269, 'PAAC25': -4.491, 'NP': 0.0, 'WR': 0.36, 'CR': 0.0, 'MoreauBrotoAuto_Steric28': 0.066, '_ChargeD2100': 99.642, 'QSOSW46': 0.030673, 'GearyAuto_Polarizability16': 0.893, 'MoranAuto_Hydrophobicity28': 0.081, 'PL': 0.0, 'YC': 0.0, 'APAAC3': 4.54, 'AG': 0.36, 'AF': 0.0, 'NA': 1.08, 'GearyAuto_ResidueASA15': 1.008, 'MoranAuto_Steric27': -0.047, 'G': 8.244, 'MoranAuto_Steric12': 0.038, 'MoranAuto_Hydrophobicity14': 0.059, 'MoranAuto_Mutability1': 0.092, 'GearyAuto_ResidueASA5': 0.958, 'SD': 0.36, '_SecondaryStrD2075': 75.627, 'tausw43': 81.317, 'C': 0.358, 'GearyAuto_ResidueVol22': 1.035, '_ChargeD2050': 51.971, 'AE': 0.72, '_PolarityC2': 0.398, 'MI': 0.0, 'GearyAuto_Steric3': 0.938, '_ChargeD2075': 74.552, 'GearyAuto_Polarizability25': 1.079, 'MoreauBrotoAuto_Hydrophobicity27': 0.034, 'MoreauBrotoAuto_ResidueVol7': 0.144, 'taugrant36': 87.791, 'MoranAuto_Mutability3': 0.004, 'MoranAuto_AvFlexibility13': 0.065, '_NormalizedVDWVD1075': 73.835, '_SecondaryStrD3001': 1.434, 'QSOgrant36': 0.030366, 'MoreauBrotoAuto_Steric18': 0.047, 'GearyAuto_AvFlexibility18': 0.959, '_NormalizedVDWVD3075': 77.419, 'taugrant24': 88.503, 'MoreauBrotoAuto_ResidueVol6': 0.148, 'TD': 0.36, 'tausw32': 81.886, 'GearyAuto_FreeEnergy10': 0.926, 'LF': 0.0, 'MoranAuto_Polarizability4': 0.013, 'MoreauBrotoAuto_ResidueASA26': 0.161, 'PH': 0.36, 'N': 3.943, 'DT': 0.0, 'taugrant8': 106.069, 'RA': 0.0, 'GearyAuto_AvFlexibility3': 0.923, '_HydrophobicityD3100': 99.283, 'GearyAuto_ResidueASA22': 1.057, 'MoreauBrotoAuto_FreeEnergy15': 0.037, 'GearyAuto_Hydrophobicity29': 1.033, 'MoreauBrotoAuto_Mutability18': 0.106, 'MoreauBrotoAuto_AvFlexibility2': 0.029, 'MoranAuto_Polarizability17': 0.016, 'MoranAuto_ResidueASA26': 0.049, 'QSOgrant34': 0.033278, 'EP': 0.72, 'EY': 0.36, 'GearyAuto_Steric26': 0.93, 'MoranAuto_AvFlexibility10': 0.03, 'MoreauBrotoAuto_Mutability26': 0.117, 'KT': 0.36, 'MoranAuto_Steric22': -0.087, 'MoreauBrotoAuto_Hydrophobicity23': 0.034, 'MoreauBrotoAuto_Steric5': 0.026, '_SolventAccessibilityD1001': 1.792, 'QSOSW1': 0.000273, 'tausw7': 101.412, 'GearyAuto_FreeEnergy5': 0.976, 'MoreauBrotoAuto_AvFlexibility19': 0.034, 'MoreauBrotoAuto_FreeEnergy26': 0.045, 'MoranAuto_Mutability28': 0.033, 'EA': 1.44, 'tausw1': 101.026, 'PAAC3': 1.975, 'MoreauBrotoAuto_ResidueVol16': 0.142, 'QSOgrant20': 0.000211, 'QSOSW30': 0.033305, 'PR': 0.36, 'MoreauBrotoAuto_Hydrophobicity19': 0.025, 'APAAC2': 6.603, 'MoreauBrotoAuto_Mutability2': 0.1, 'MoranAuto_ResidueASA7': -0.015, '_SolventAccessibilityD1075': 70.968, 'WI': 0.0, 'EM': 0.0, '_HydrophobicityD3050': 43.728, 'R': 5.735, 'MoreauBrotoAuto_Hydrophobicity25': 0.033, '_SecondaryStrD1025': 25.448, 'taugrant16': 87.808, 'TQ': 0.72, 'MoranAuto_Mutability17': 0.154, 'SQ': 0.36, '_SecondaryStrD1100': 100.0, 'QSOgrant28': 0.036681, 'YL': 0.72, 'MoreauBrotoAuto_ResidueASA10': 0.16, 'MoreauBrotoAuto_AvFlexibility6': 0.031, 'GearyAuto_ResidueVol3': 0.923, 'MK': 0.0, '_SolventAccessibilityD1025': 27.24, 'NV': 0.0, '_NormalizedVDWVT13': 0.183, 'KD': 0.0, 'MoranAuto_Mutability27': 0.067, 'QI': 0.72, 'MoreauBrotoAuto_Polarizability15': 0.163, 'tausw21': 98.77, 'tausw40': 89.733, 'QSOgrant5': 1.4e-05, 'GearyAuto_Mutability24': 1.04, 'GearyAuto_Mutability22': 1.006, 'QSOSW3': 0.000135, 'YD': 0.36, 'MoranAuto_Hydrophobicity8': 0.034, 'TN': 0.72, 'E': 8.244, 'taugrant17': 93.168, 'MoreauBrotoAuto_FreeEnergy5': 0.039, 'QSOgrant29': 0.036122, 'LD': 0.36, 'MoranAuto_Hydrophobicity15': -0.102, 'DY': 0.0, 'GearyAuto_Steric18': 0.952, 'MoreauBrotoAuto_Steric20': 0.05, 'MoreauBrotoAuto_Mutability4': 0.099, '_HydrophobicityD1100': 100.0, 'TA': 0.72, 'MoreauBrotoAuto_Polarizability20': 0.163, 'MoranAuto_AvFlexibility2': 0.107, 'MoranAuto_ResidueVol23': 0.043, 'MoranAuto_FreeEnergy21': 0.039, 'PAAC11': 3.77, 'RY': 0.0, 'tausw36': 87.791, 'GC': 0.0, 'M': 2.509, 'QSOgrant47': 0.031487, 'QSOSW39': 0.031428, 'MoranAuto_ResidueASA17': -0.021, '_NormalizedVDWVD3001': 0.358, 'D': 4.301, 'GearyAuto_ResidueVol18': 0.938, 'MoranAuto_Steric20': -0.066, 'LE': 0.36, 'GearyAuto_Steric10': 1.041, 'MoreauBrotoAuto_AvFlexibility22': 0.043, 'MoranAuto_Mutability18': -0.029, 'P': 5.376, 'MoranAuto_FreeEnergy14': 0.037, 'GearyAuto_Mutability29': 1.191, 'CP': 0.0, 'MoreauBrotoAuto_AvFlexibility13': 0.05, 'AR': 0.36, 'taugrant1': 101.026, 'AS': 1.08, 'MoreauBrotoAuto_Polarizability19': 0.162, 'MoreauBrotoAuto_FreeEnergy18': 0.037, 'QSOSW10': 0.000135, 'MM': 0.0, 'HV': 0.0, 'CA': 0.0, 'APAAC13': 2.889, 'GearyAuto_AvFlexibility12': 0.9, 'GearyAuto_Steric17': 1.037, 'GearyAuto_Hydrophobicity13': 0.982, 'QSOgrant8': 0.000284, 'MoreauBrotoAuto_FreeEnergy23': 0.04, 'KK': 0.72, 'MoranAuto_Polarizability22': -0.066, '_PolarityD3001': 0.358, 'PAAC26': 1.151, 'MoranAuto_Steric7': 0.044, '_PolarityD3075': 77.419, 'GearyAuto_AvFlexibility8': 1.033, 'MoreauBrotoAuto_AvFlexibility30': 0.06, 'taugrant9': 104.453, 'KI': 0.36, 'QSOgrant38': 0.032805, '_ChargeD1001': 4.301, 'MoranAuto_Mutability19': 0.023, 'FV': 0.0, 'QSOgrant9': 6.2e-05, 'GearyAuto_AvFlexibility26': 0.859, 'MoreauBrotoAuto_FreeEnergy11': 0.044, 'WC': 0.0, 'MoreauBrotoAuto_Mutability17': 0.105, 'MoranAuto_ResidueASA22': -0.08, 'QSOSW34': 0.033278, 'FT': 0.72, 'taugrant38': 85.135, 'PAAC28': 4.03, 'MoranAuto_Hydrophobicity26': 0.075, 'NT': 0.0, 'II': 0.36, 'MoranAuto_FreeEnergy10': 0.06, 'GearyAuto_Steric24': 0.976, '_ChargeT12': 0.169, 'GearyAuto_Hydrophobicity6': 1.044, 'MoranAuto_Steric11': 0.114, 'QSOSW2': 0.000197, 'PN': 0.36, 'MG': 0.0, 'GearyAuto_Hydrophobicity11': 0.98, 'AL': 0.72, 'QSOSW22': 0.034153, 'QSOgrant25': 0.036283, 'tausw28': 84.091, 'MoranAuto_Polarizability28': 0.046, 'EC': 0.0, 'YN': 0.0, 'MoreauBrotoAuto_Mutability21': 0.113, 'MoranAuto_Mutability9': -0.042, 'GearyAuto_Polarizability2': 0.98, 'CG': 0.0, 'QSOSW28': 0.036681, 'MoreauBrotoAuto_FreeEnergy19': 0.04, 'YH': 0.0, 'MoranAuto_AvFlexibility12': 0.08, 'YA': 0.0, '_ChargeD1100': 97.849, 'VL': 0.72, 'GearyAuto_FreeEnergy7': 0.999, 'MoreauBrotoAuto_Polarizability16': 0.165, 'MoranAuto_FreeEnergy2': -0.083, 'MoreauBrotoAuto_Mutability22': 0.112, 'tausw5': 104.917, 'QSOSW38': 0.032805, '_SolventAccessibilityD2050': 50.538, 'MoreauBrotoAuto_ResidueVol21': 0.141, 'NE': 0.0, 'GearyAuto_Polarizability17': 0.955, 'KR': 0.0, 'MoranAuto_Hydrophobicity24': 0.012, 'GearyAuto_AvFlexibility17': 1.084, '_SecondaryStrD3075': 73.477, '_SecondaryStrT12': 0.23, 'GearyAuto_Polarizability12': 0.919, 'MoranAuto_AvFlexibility5': 0.08, 'MoranAuto_Mutability22': 0.028, 'AH': 0.36, 'MC': 0.0, '_SecondaryStrD2100': 99.283, '_SecondaryStrC1': 0.434, 'MoreauBrotoAuto_Mutability20': 0.111, '_SecondaryStrT13': 0.259, 'GearyAuto_AvFlexibility4': 1.127, 'GF': 0.36, 'RI': 0.0, 'MT': 0.36, 'MoranAuto_ResidueVol4': 0.006, 'MoreauBrotoAuto_Polarizability6': 0.169, 'EF': 0.36, 'MoreauBrotoAuto_FreeEnergy29': 0.043, 'ET': 0.36, 'MoranAuto_AvFlexibility9': 0.004, 'SH': 0.0, 'MoreauBrotoAuto_FreeEnergy30': 0.043, 'PAAC13': 1.257, 'GearyAuto_Steric8': 0.997, 'MoreauBrotoAuto_ResidueASA5': 0.155, 'QSOgrant4': 0.000149, 'taugrant11': 94.764, 'MoranAuto_Mutability8': -0.103, 'VS': 0.72, 'MoreauBrotoAuto_ResidueVol1': 0.147, 'GearyAuto_Polarizability10': 0.974, 'MoreauBrotoAuto_Hydrophobicity11': 0.018, 'QD': 0.36, 'GearyAuto_FreeEnergy6': 1.089, 'taugrant22': 101.084, 'MoranAuto_ResidueVol5': 0.072, 'GearyAuto_ResidueASA8': 1.127, '_ChargeD3075': 63.082, 'QSOSW33': 0.033725, 'GearyAuto_FreeEnergy19': 0.967, 'GearyAuto_ResidueASA14': 1.06, 'EE': 0.36, 'TC': 0.0, 'GearyAuto_ResidueVol10': 0.961, '_PolarityD3100': 98.208, 'GearyAuto_FreeEnergy23': 0.963, 'MoranAuto_ResidueVol8': -0.105, 'GearyAuto_AvFlexibility13': 0.916, 'MoreauBrotoAuto_ResidueASA1': 0.158, 'IY': 0.0, 'taugrant32': 81.886, 'MoreauBrotoAuto_Mutability3': 0.099, 'PAAC38': -1.267, 'MoreauBrotoAuto_Hydrophobicity15': 0.02, 'MoranAuto_AvFlexibility28': -0.039, 'GearyAuto_ResidueVol16': 0.914, 'DG': 0.72, 'tausw15': 96.485, 'GearyAuto_Hydrophobicity15': 1.09, 'MoreauBrotoAuto_Steric7': 0.027, 'MoranAuto_AvFlexibility24': 0.14, 'QE': 0.0, 'QSOSW27': 0.03507, 'MoranAuto_Steric16': -0.083, '_ChargeD3025': 19.713, 'LT': 0.72, 'CC': 0.0, 'LI': 0.36, 'APAAC19': 3.301, 'MoreauBrotoAuto_ResidueASA20': 0.154, 'HK': 0.36, 'GearyAuto_Polarizability28': 0.922, 'MoranAuto_FreeEnergy6': -0.081, 'taugrant30': 96.498, 'ES': 0.0, 'GearyAuto_FreeEnergy29': 0.981, 'DL': 0.36, 'IH': 0.0, '_PolarityC3': 0.244, 'MoranAuto_Hydrophobicity11': 0.008, 'LV': 0.72, 'MoreauBrotoAuto_ResidueVol2': 0.147, '_SolventAccessibilityD1050': 45.52, 'tausw45': 85.528, 'MoranAuto_ResidueASA18': 0.018, 'MoreauBrotoAuto_Polarizability13': 0.172, 'MoranAuto_Mutability11': 0.073, 'VQ': 0.36, 'MoranAuto_Polarizability6': -0.037, 'GearyAuto_FreeEnergy12': 0.983, 'QSOgrant21': 0.034937, 'DH': 0.0, 'MoranAuto_Mutability24': -0.019, 'PK': 0.36, '_SolventAccessibilityD3025': 17.921, 'MoranAuto_ResidueVol25': -0.125, 'ST': 0.36, 'LY': 0.0, '_PolarizabilityD2075': 75.986, 'GearyAuto_Mutability11': 0.939, 'GearyAuto_Mutability26': 1.059, 'MoreauBrotoAuto_ResidueVol12': 0.146, 'GearyAuto_ResidueASA23': 0.906, 'YR': 0.0, 'FE': 0.72, 'MoreauBrotoAuto_Hydrophobicity21': 0.035, 'QC': 0.0, 'tausw34': 88.65, 'RN': 0.36, 'GearyAuto_Polarizability11': 0.9, 'CM': 0.0, 'MoranAuto_AvFlexibility11': 0.006, 'DN': 0.36, 'QSOgrant39': 0.031428, 'MoreauBrotoAuto_ResidueVol25': 0.141, 'VR': 0.36, 'AV': 0.72, 'GearyAuto_Polarizability20': 1.064, 'GearyAuto_ResidueASA26': 0.922, 'FA': 0.0, 'taugrant37': 99.641, 'GearyAuto_Hydrophobicity9': 1.024, 'HQ': 0.0, 'tausw23': 87.397, 'GearyAuto_Steric11': 0.896, '_SecondaryStrD1001': 0.358, 'VY': 0.0, 'MoreauBrotoAuto_ResidueASA13': 0.164, 'TF': 1.08, 'TL': 0.0, 'MD': 0.0, 'MoreauBrotoAuto_Mutability14': 0.102, 'APAAC14': 5.778, 'MA': 0.0, '_HydrophobicityT23': 0.223, 'YF': 0.36, '_PolarityD1100': 0, '_ChargeC1': 0.111, 'QSOSW41': 0.034157, '_PolarizabilityD1025': 27.24, 'PAAC31': -2.015, 'QF': 0.0, 'FW': 0.0, 'GearyAuto_ResidueVol12': 0.912, 'MoreauBrotoAuto_Hydrophobicity30': 0.036, 'MoranAuto_Hydrophobicity5': 0.049, 'GearyAuto_AvFlexibility29': 0.996, 'MoreauBrotoAuto_ResidueASA9': 0.156, 'MoranAuto_Steric9': -0.003, 'MoranAuto_Steric30': -0.032, 'MoreauBrotoAuto_ResidueVol18': 0.144, 'QSOSW31': 0.032771, 'MoranAuto_Mutability15': -0.05, 'MoranAuto_AvFlexibility18': 0.015, 'PP': 0.0, 'QSOSW47': 0.031487, '_SecondaryStrD1050': 48.387, 'IW': 0.0, 'GearyAuto_Hydrophobicity27': 0.949, 'MoranAuto_Hydrophobicity13': 0.009, 'ID': 0.0, '_PolarityD2025': 25.448, 'WG': 0.0, 'tausw3': 101.094, 'A': 7.885, 'GearyAuto_ResidueVol7': 0.983, 'MoranAuto_Polarizability18': 0.007, 'MoranAuto_Polarizability13': -0.003, 'GearyAuto_AvFlexibility14': 0.955, 'GQ': 0.72, 'GearyAuto_ResidueVol14': 1.029, 'QSOgrant12': 0.000187, 'MoreauBrotoAuto_Mutability13': 0.102, 'QSOgrant41': 0.034157, 'FI': 0.0, 'MoranAuto_FreeEnergy24': 0.084, '_SolventAccessibilityT12': 0.291, 'MoreauBrotoAuto_AvFlexibility23': 0.044, 'QSOgrant45': 0.034331, 'taugrant44': 88.565, '_HydrophobicityD2025': 25.09, 'GearyAuto_Polarizability8': 1.123, 'IA': 0.36, 'GearyAuto_Hydrophobicity5': 0.948, 'TS': 0.72, 'MoranAuto_Steric23': 0.057, 'MoreauBrotoAuto_AvFlexibility3': 0.031, 'MoreauBrotoAuto_Steric30': 0.068, 'MoreauBrotoAuto_ResidueASA17': 0.154, 'MoranAuto_Hydrophobicity2': 0.051, 'HL': 0.0, 'MoranAuto_Hydrophobicity9': -0.033, 'taugrant14': 96.229, 'taugrant18': 94.861, 'PAAC16': 4.129, 'MoranAuto_Mutability23': -0.013, 'GearyAuto_Polarizability15': 0.992, 'PY': 0.0, 'RS': 0.36, 'VI': 0.0, 'MoreauBrotoAuto_Polarizability24': 0.164, 'taugrant45': 85.528, 'MoranAuto_FreeEnergy11': -0.033, '_NormalizedVDWVD3050': 45.161, 'MoreauBrotoAuto_ResidueVol9': 0.14, '_PolarizabilityT12': 0.288, 'MoranAuto_FreeEnergy12': -0.002, '_NormalizedVDWVD1025': 25.806, 'MoranAuto_ResidueVol12': 0.08, 'MoranAuto_FreeEnergy30': -0.128, 'GearyAuto_Steric29': 0.944, 'GearyAuto_AvFlexibility30': 1.07, 'SM': 0.0, 'MoreauBrotoAuto_FreeEnergy4': 0.04, 'MoreauBrotoAuto_Mutability11': 0.102, 'VE': 0.0, '_SolventAccessibilityD2025': 25.448, 'MoranAuto_FreeEnergy29': -0.015, '_NormalizedVDWVD2001': 1.434, 'MoreauBrotoAuto_ResidueASA18': 0.157, 'MoranAuto_AvFlexibility19': -0.023, 'QSOSW45': 0.034331, 'MoranAuto_Polarizability23': 0.055, 'MoreauBrotoAuto_Polarizability26': 0.166, 'GearyAuto_Hydrophobicity21': 0.996, 'MoranAuto_AvFlexibility22': -0.045, 'MoranAuto_FreeEnergy18': -0.037, 'MoreauBrotoAuto_ResidueASA21': 0.155, 'KP': 0.36, 'VD': 0.0, 'MoranAuto_Polarizability27': 0.041, 'MoranAuto_AvFlexibility25': -0.056, 'GearyAuto_ResidueVol4': 0.995, 'QSOgrant48': 0.02908, 'MoreauBrotoAuto_AvFlexibility25': 0.044, 'MoranAuto_Hydrophobicity7': -0.018, 'WW': 0.36, 'MoranAuto_Polarizability7': -0.039, 'EN': 0.0, 'MoranAuto_Hydrophobicity16': 0.011, 'IP': 0.36, 'GearyAuto_AvFlexibility27': 0.953, 'LA': 0.36, 'DI': 0.36, 'MoranAuto_Steric10': -0.036, 'MoreauBrotoAuto_AvFlexibility8': 0.042, 'MoranAuto_Steric25': -0.072, 'MoranAuto_ResidueVol27': 0.045, 'MN': 0.0, 'GearyAuto_AvFlexibility24': 0.834, 'EH': 0.0, 'MoranAuto_Polarizability2': 0.017, 'MoranAuto_Mutability12': 0.027, 'QSOgrant44': 0.030606, 'taugrant21': 98.77, 'GearyAuto_Steric5': 0.999, 'GearyAuto_Steric7': 0.957, 'MoranAuto_AvFlexibility23': 0.063, 'MoreauBrotoAuto_Mutability25': 0.116, '_SolventAccessibilityD2075': 75.269, 'MoreauBrotoAuto_ResidueVol11': 0.145, 'MoranAuto_FreeEnergy28': -0.002, 'GearyAuto_Steric4': 1.043, '_SolventAccessibilityC3': 0.28, 'tausw12': 95.324, 'DK': 0.0, 'MoreauBrotoAuto_ResidueVol22': 0.141, 'GearyAuto_FreeEnergy13': 1.001, 'MoreauBrotoAuto_Steric6': 0.027, '_ChargeD3100': 100.0, '_ChargeD2025': 25.806, 'APAAC16': 9.492, 'MoranAuto_ResidueASA30': -0.068, 'QSOSW24': 0.032629, 'MoranAuto_Steric5': -0.004, 'CE': 0.0, 'MoranAuto_Steric6': -0.072, 'MoranAuto_Mutability26': -0.049, 'QSOSW21': 0.034937, 'tausw14': 96.229, '_PolarizabilityD1001': 0.717, 'GearyAuto_Polarizability9': 1.039, 'taugrant42': 81.766, 'MoranAuto_Steric13': 0.093, 'GearyAuto_Polarizability30': 1.029, 'GearyAuto_AvFlexibility6': 1.054, 'MoreauBrotoAuto_Steric26': 0.058, 'MoreauBrotoAuto_Polarizability18': 0.166, '_PolarityD2100': 100.0, '_SolventAccessibilityD1100': 99.283, 'GearyAuto_FreeEnergy17': 1.024, 'SE': 0.36, 'MoranAuto_Hydrophobicity22': -0.036, 'GearyAuto_FreeEnergy26': 0.829, 'MoreauBrotoAuto_ResidueASA24': 0.159, 'GearyAuto_Hydrophobicity25': 0.975, 'MoreauBrotoAuto_ResidueVol20': 0.141, 'QSOgrant13': 8.6e-05, 'GearyAuto_ResidueVol9': 1.021, 'GearyAuto_ResidueASA3': 0.931, 'MoranAuto_Hydrophobicity20': -0.034, 'MoranAuto_Hydrophobicity17': 0.063, 'IQ': 0.36, 'QSOSW42': 0.034957, '_SolventAccessibilityD3050': 53.405, 'MoreauBrotoAuto_Hydrophobicity4': 0.009, 'QSOgrant16': 0.000284, 'MoranAuto_Polarizability30': -0.062, '_ChargeD3001': 2.509, 'MoreauBrotoAuto_Mutability27': 0.12, 'YT': 0.0, 'MoranAuto_FreeEnergy3': -0.069, 'HG': 0.0, 'MoreauBrotoAuto_AvFlexibility1': 0.032, 'ER': 1.44, 'MoreauBrotoAuto_FreeEnergy13': 0.039, 'MoranAuto_ResidueVol18': 0.038, 'MoreauBrotoAuto_Polarizability29': 0.165, 'MoranAuto_Hydrophobicity10': 0.085, 'MoranAuto_Polarizability21': -0.068, 'APAAC15': 6.19, 'MoranAuto_ResidueVol29': 0.047, 'MoreauBrotoAuto_Polarizability25': 0.162, '_PolarityT13': 0.0, 'tausw44': 88.565, 'GearyAuto_Polarizability5': 0.93, 'MoreauBrotoAuto_ResidueASA8': 0.155, '_PolarizabilityD3025': 17.563, 'MoranAuto_Polarizability3': 0.081, 'taugrant39': 92.815, 'QSOgrant32': 0.032965, 'GearyAuto_Hydrophobicity18': 0.916, 'MoreauBrotoAuto_ResidueASA3': 0.159, 'MoreauBrotoAuto_ResidueVol29': 0.144, 'NH': 0.36, 'MoranAuto_Hydrophobicity12': -0.014, 'GearyAuto_Mutability21': 1.02, 'HP': 0.0, 'GearyAuto_Steric15': 1.095, 'SA': 0.36, 'TI': 0.0, '_ChargeC3': 0.125, 'MoranAuto_Steric17': -0.029, 'YY': 0.0, 'MoreauBrotoAuto_AvFlexibility5': 0.03, 'LS': 0.36, 'WE': 0.36, 'MoreauBrotoAuto_Hydrophobicity12': 0.018, 'MoranAuto_Steric28': 0.017, 'MoranAuto_Steric1': -0.002, 'MoreauBrotoAuto_FreeEnergy8': 0.041, 'GI': 0.0, 'MoreauBrotoAuto_FreeEnergy9': 0.04, 'MoranAuto_FreeEnergy1': -0.03, 'MoranAuto_Polarizability19': -0.061, '_SecondaryStrC2': 0.265, 'GearyAuto_Hydrophobicity4': 1.035, 'MoreauBrotoAuto_AvFlexibility24': 0.045, 'GearyAuto_FreeEnergy27': 1.022, 'GearyAuto_Hydrophobicity12': 1.006, 'TV': 0.72, 'CK': 0.0, 'MoranAuto_AvFlexibility14': 0.022, 'IC': 0.0, 'GearyAuto_Polarizability26': 0.892, 'T': 7.168, 'PAAC1': 3.95, 'MoranAuto_ResidueASA8': -0.13, 'taugrant40': 89.733, 'WY': 0.0, 'tausw20': 98.752, 'MoreauBrotoAuto_Steric29': 0.068, 'EV': 0.36, 'MH': 0.0, 'AD': 0.36, 'MoreauBrotoAuto_Steric16': 0.046, '_HydrophobicityT13': 0.191, '_NormalizedVDWVD2075': 75.627, 'MoranAuto_ResidueASA29': 0.058, 'PAAC6': 4.129, 'PAAC4': 2.154, '_HydrophobicityD2075': 73.835, 'tausw18': 94.861, 'GV': 0.36, 'IT': 0.0, 'SP': 0.0, '_PolarizabilityD2100': 100.0, 'MoranAuto_FreeEnergy23': 0.009, 'AA': 0.72, 'taugrant6': 106.171, 'FK': 0.72, 'MoreauBrotoAuto_Polarizability7': 0.164, 'GearyAuto_Polarizability21': 1.033, 'tausw41': 87.813, 'MoreauBrotoAuto_FreeEnergy27': 0.044, 'EQ': 0.36, '_PolarityD1075': 0, 'QT': 0.36, '_ChargeD1025': 24.731, 'MoranAuto_ResidueASA15': -0.027, '_ChargeD2001': 0.358, 'MoreauBrotoAuto_Polarizability3': 0.169, 'QSOSW37': 0.032219, 'MoranAuto_AvFlexibility29': -0.039, 'GearyAuto_ResidueVol5': 0.926, 'MP': 0.0, 'GearyAuto_Steric19': 1.164, 'PAAC30': -2.073, 'GearyAuto_ResidueASA1': 0.896, 'MoreauBrotoAuto_Hydrophobicity6': 0.013, '_SolventAccessibilityT23': 0.173, 'QP': 0.36, 'MoreauBrotoAuto_FreeEnergy12': 0.041, 'Y': 2.867, 'SF': 0.72, 'QQ': 0.0, 'PAAC8': 4.129, 'MoreauBrotoAuto_ResidueVol23': 0.146, '_ChargeT23': 0.187, '_PolarityD3050': 45.161, 'YP': 0.0, 'GearyAuto_Hydrophobicity14': 0.931, '_PolarityD3025': 17.563, 'IL': 0.36, 'MoreauBrotoAuto_Mutability16': 0.106, 'APAAC4': 4.952, '_HydrophobicityD2050': 53.405, 'MoreauBrotoAuto_ResidueASA23': 0.162, 'GearyAuto_ResidueVol17': 0.945, 'GearyAuto_ResidueVol8': 1.101, 'NL': 0.0, '_PolarizabilityT23': 0.176, 'MoranAuto_ResidueVol28': 0.04, 'TH': 0.0, 'MoranAuto_ResidueASA2': 0.029, '_SecondaryStrD3025': 21.505, 'ED': 0.36, 'FN': 0.0, 'MoranAuto_Steric8': 0.001, 'GearyAuto_Polarizability23': 0.914, 'MoranAuto_Mutability5': -0.018, 'CY': 0.0, 'YW': 0.0, 'QSOgrant6': 0.000284, 'MoranAuto_ResidueVol15': -0.053, 'GearyAuto_Mutability10': 0.935, 'MoranAuto_Hydrophobicity4': -0.04, 'GearyAuto_ResidueVol25': 1.105, 'QSOgrant31': 0.032771, 'taugrant29': 85.953, '_PolarizabilityC3': 0.244, '_ChargeD3050': 42.652, 'MoranAuto_ResidueVol17': 0.041, 'MoreauBrotoAuto_ResidueASA4': 0.158, 'GearyAuto_AvFlexibility19': 0.991, 'RV': 1.08, 'EI': 0.36, '_NormalizedVDWVC2': 0.341, 'V': 6.093, 'PE': 0.0, 'GearyAuto_FreeEnergy9': 1.004, 'MoreauBrotoAuto_ResidueASA29': 0.161, '_SolventAccessibilityD3075': 74.552, 'MoranAuto_Steric26': 0.067, 'DE': 0.36, 'MoreauBrotoAuto_AvFlexibility26': 0.054, 'PAAC35': -1.497, 'QSOSW7': 0.000149, 'tausw4': 94.351, 'taugrant4': 94.351, 'TR': 0.0, 'MoreauBrotoAuto_Mutability9': 0.099, 'QSOgrant37': 0.032219, 'MoranAuto_Steric4': -0.039, 'MoranAuto_Mutability10': 0.077, 'YQ': 0.0, '_NormalizedVDWVD1100': 99.642, 'VC': 0.36, 'QSOgrant26': 0.036716, 'MoranAuto_Mutability16': 0.013, 'PAAC21': -6.505, '_ChargeC2': 0.763, 'QSOSW17': 0.000249, 'MoreauBrotoAuto_FreeEnergy6': 0.04, 'QSOSW36': 0.030366, 'tausw30': 96.498, 'SR': 0.72, 'GearyAuto_Mutability12': 0.988, 'VH': 0.0, 'W': 1.075, 'MoreauBrotoAuto_ResidueVol26': 0.146, 'MoreauBrotoAuto_Polarizability30': 0.165, 'MoranAuto_Mutability4': -0.071, 'YK': 0.72, 'GearyAuto_FreeEnergy8': 0.903, 'KA': 0.72, 'MoreauBrotoAuto_ResidueASA19': 0.153, 'GearyAuto_ResidueASA29': 0.914, 'MoranAuto_Polarizability24': 0.144, '_PolarityC1': 0.0, 'GearyAuto_Mutability25': 0.997, 'QSOgrant27': 0.03507, 'GearyAuto_Mutability27': 0.942, 'GY': 0.0, 'MoranAuto_Polarizability20': -0.098, '_ChargeD1075': 78.853, 'GearyAuto_Hydrophobicity22': 1.02, 'GearyAuto_Mutability1': 0.904, 'RQ': 0.0, 'MoreauBrotoAuto_Hydrophobicity24': 0.037, '_PolarityT12': 0.0, 'DR': 0.72, 'MoreauBrotoAuto_Polarizability10': 0.168, 'QSOSW40': 0.034151, 'GearyAuto_ResidueVol1': 0.904, 'MoranAuto_ResidueVol14': -0.039, 'MoranAuto_Hydrophobicity27': 0.042, 'PAAC37': 0.058, 'MoranAuto_Hydrophobicity23': -0.047, 'VM': 0.0, 'GearyAuto_ResidueVol23': 0.94, '_NormalizedVDWVD3025': 17.563, 'GearyAuto_ResidueVol11': 0.892, 'GearyAuto_AvFlexibility2': 0.884, 'GearyAuto_Polarizability1': 0.887, 'MoranAuto_ResidueVol16': 0.069, 'tausw17': 93.168, 'MoranAuto_FreeEnergy15': 0.036, '_ChargeD1050': 46.953, 'GearyAuto_AvFlexibility7': 1.05, 'GearyAuto_AvFlexibility1': 1.021, 'RM': 0.0, 'NW': 0.0, 'PAAC12': 2.693, 'GearyAuto_Polarizability6': 1.03, 'tausw31': 90.266, 'GearyAuto_ResidueVol19': 1.044, 'GE': 1.8, 'SI': 0.72, 'MoranAuto_ResidueVol21': -0.036, 'GearyAuto_Mutability3': 0.995, 'QM': 0.36, '_PolarizabilityD1050': 55.914, 'taugrant3': 101.094, 'LG': 0.72, 'MoranAuto_AvFlexibility3': 0.071, 'QSOgrant22': 0.034153, 'QSOSW44': 0.030606, 'MoreauBrotoAuto_ResidueVol30': 0.143, 'MoreauBrotoAuto_Steric14': 0.032, 'FQ': 0.0, 'taugrant33': 85.224, 'MoreauBrotoAuto_Mutability10': 0.101, 'MoreauBrotoAuto_Polarizability22': 0.163, 'GearyAuto_Mutability6': 1.022, 'MoranAuto_Steric24': 0.027, 'GearyAuto_Mutability16': 1.008, 'GearyAuto_Polarizability19': 1.026, 'GearyAuto_Mutability18': 1.056, 'QSOgrant43': 0.030224, 'GearyAuto_Mutability9': 1.05, 'VV': 0.36, 'QSOSW11': 0.000259, 'LW': 0.0, 'MoreauBrotoAuto_ResidueVol17': 0.142, '_HydrophobicityC1': 0.319, '_HydrophobicityD1050': 50.538, 'MoranAuto_Mutability13': -0.043, 'GearyAuto_Hydrophobicity7': 1.012, '_SecondaryStrD2025': 23.297, 'taugrant34': 88.65, 'MoreauBrotoAuto_Polarizability8': 0.164, 'GearyAuto_AvFlexibility11': 0.973, 'GearyAuto_Mutability2': 1.038, 'IE': 1.08, 'QSOSW14': 0.000173, 'LR': 0.72, 'MoreauBrotoAuto_Hydrophobicity20': 0.03, 'MoreauBrotoAuto_FreeEnergy10': 0.044, 'GearyAuto_FreeEnergy24': 0.868, 'MoreauBrotoAuto_Mutability5': 0.098, '_ChargeT13': 0.04, 'GearyAuto_Steric9': 1.005, 'QSOgrant3': 0.000135, 'GearyAuto_ResidueASA12': 0.943, 'MoreauBrotoAuto_Steric17': 0.045, '_HydrophobicityC3': 0.265, 'AI': 0.0, 'MoreauBrotoAuto_FreeEnergy17': 0.037, 'HM': 0.0, 'GP': 0.0, 'MoranAuto_FreeEnergy19': 0.001, 'GL': 0.36, 'GearyAuto_Hydrophobicity23': 1.033, 'GearyAuto_Polarizability24': 0.822, 'MW': 0.0, 'MoreauBrotoAuto_ResidueASA2': 0.16, 'QK': 0.36, 'YE': 0.0, 'MoreauBrotoAuto_Mutability28': 0.113, 'MoranAuto_AvFlexibility26': 0.106, 'AP': 0.0, 'tausw25': 99.273, 'taugrant43': 81.317, 'QSOgrant2': 0.000197, 'GearyAuto_ResidueASA30': 1.04, 'KV': 0.36, 'LP': 0.72, 'taugrant28': 84.091, 'KY': 0.0, 'AW': 0.0, 'GearyAuto_ResidueASA10': 0.978, 'MoreauBrotoAuto_Hydrophobicity1': 0.01, 'HA': 0.0, 'DD': 0.0, '_PolarizabilityD3050': 45.161, 'GearyAuto_AvFlexibility16': 0.846, 'MoranAuto_Polarizability12': 0.058, 'HS': 0.0, 'MoranAuto_ResidueVol22': -0.055, 'taugrant35': 92.008, 'GearyAuto_AvFlexibility15': 0.951, 'GearyAuto_Steric22': 1.082, 'MoranAuto_ResidueASA25': -0.12, 'GearyAuto_ResidueVol26': 0.912, 'GearyAuto_ResidueASA20': 1.073, 'MoreauBrotoAuto_Hydrophobicity13': 0.019, 'PAAC19': 1.436, 'MoranAuto_Hydrophobicity25': 0.013, 'PD': 0.36, 'APAAC11': 8.667, 'I': 3.943, 'YS': 0.36, 'QSOSW23': 0.03496, 'MoranAuto_Hydrophobicity18': 0.068, 'GR': 0.0, 'MoreauBrotoAuto_AvFlexibility15': 0.047, 'MoreauBrotoAuto_Mutability7': 0.1, 'GearyAuto_Mutability4': 1.068, 'AY': 0.72, 'MoreauBrotoAuto_ResidueASA7': 0.155, 'GearyAuto_Mutability19': 1.006, 'SS': 1.8, 'TY': 0.36, 'tausw24': 88.503}\n"
     ]
    }
   ],
   "source": [
    "print(DesObject.GetALL())"
   ]
  },
  {
   "cell_type": "code",
   "execution_count": 5,
   "metadata": {
    "collapsed": false
   },
   "outputs": [
    {
     "name": "stdout",
     "output_type": "stream",
     "text": [
      "{'_PolarizabilityD1025': 27.24, '_SecondaryStrD2075': 75.627, '_PolarizabilityT23': 0.176, '_SolventAccessibilityD1025': 27.24, '_HydrophobicityC2': 0.416, '_NormalizedVDWVT13': 0.183, '_SecondaryStrD3025': 21.505, '_SecondaryStrD2001': 0.717, '_PolarityD1050': 0, '_PolarityC2': 0.398, '_ChargeT12': 0.169, '_PolarityD2075': 75.986, '_PolarityD2100': 100.0, '_ChargeD2075': 74.552, '_NormalizedVDWVD2025': 26.523, '_SolventAccessibilityD2100': 100.0, '_NormalizedVDWVD3025': 17.563, '_SecondaryStrD1050': 48.387, '_SolventAccessibilityT13': 0.241, '_NormalizedVDWVT23': 0.14, '_PolarizabilityD1050': 55.914, '_PolarizabilityD3025': 17.563, '_NormalizedVDWVD1075': 73.835, '_ChargeD3025': 19.713, '_SecondaryStrD3050': 54.48, '_SecondaryStrD3001': 1.434, '_ChargeC3': 0.125, '_PolarityD1025': 0, '_PolarityD2001': 1.434, '_HydrophobicityD1100': 100.0, '_SecondaryStrC2': 0.265, '_PolarityD2025': 25.448, '_SecondaryStrD3100': 99.642, '_NormalizedVDWVD3075': 77.419, '_HydrophobicityD3075': 72.043, '_PolarizabilityC3': 0.244, '_PolarizabilityC1': 0.358, '_PolarizabilityC2': 0.398, '_ChargeD3050': 42.652, '_SolventAccessibilityT23': 0.173, '_HydrophobicityC3': 0.265, '_SolventAccessibilityD2075': 75.269, '_NormalizedVDWVC2': 0.341, '_PolarizabilityD2075': 75.986, '_PolarityC3': 0.244, '_HydrophobicityD1025': 25.448, '_ChargeD1100': 97.849, '_HydrophobicityD3050': 43.728, '_SolventAccessibilityD3075': 74.552, '_PolarizabilityD3001': 0.358, '_NormalizedVDWVD1025': 25.806, '_ChargeD3100': 100.0, '_ChargeD2025': 25.806, '_SolventAccessibilityD1050': 45.52, '_NormalizedVDWVD3100': 98.208, '_SolventAccessibilityT12': 0.291, '_NormalizedVDWVT12': 0.299, '_HydrophobicityC1': 0.319, '_HydrophobicityD3100': 99.283, '_PolarizabilityD1100': 99.642, '_HydrophobicityD1050': 50.538, '_HydrophobicityT12': 0.273, '_HydrophobicityD2025': 25.09, '_HydrophobicityD3025': 22.581, '_SecondaryStrD2025': 23.297, '_HydrophobicityT13': 0.191, '_NormalizedVDWVD2075': 75.627, '_NormalizedVDWVD1100': 99.642, '_PolarizabilityD1001': 0.717, '_NormalizedVDWVC1': 0.412, '_SolventAccessibilityC1': 0.401, '_SecondaryStrD3075': 73.477, '_SolventAccessibilityD3025': 17.921, '_SolventAccessibilityD2050': 50.538, '_SecondaryStrT12': 0.23, '_ChargeD1050': 46.953, '_ChargeD2050': 51.971, '_PolarizabilityD2025': 25.448, '_SolventAccessibilityC2': 0.319, '_SolventAccessibilityD1100': 99.283, '_HydrophobicityD1075': 75.269, '_ChargeT13': 0.04, '_SecondaryStrD2100': 99.283, '_SecondaryStrC1': 0.434, '_ChargeC2': 0.763, '_NormalizedVDWVD1050': 53.405, '_PolarizabilityD2100': 100.0, '_SecondaryStrT13': 0.259, '_SolventAccessibilityD3100': 99.642, '_SolventAccessibilityD2001': 1.434, '_SecondaryStrC3': 0.301, '_PolarizabilityD1075': 73.477, '_SolventAccessibilityD1001': 1.792, '_PolarityD1075': 0, '_ChargeD1025': 24.731, '_PolarityT23': 0.176, '_PolarityD3075': 77.419, '_ChargeD2001': 0.358, '_NormalizedVDWVC3': 0.244, '_SolventAccessibilityD3050': 53.405, '_SecondaryStrD1075': 75.986, '_NormalizedVDWVD3050': 45.161, '_HydrophobicityD1001': 1.434, '_PolarizabilityT12': 0.288, '_PolarizabilityD3075': 77.419, '_PolarityC1': 0.0, '_PolarizabilityD2050': 48.746, '_ChargeD3001': 2.509, '_HydrophobicityD3001': 0.358, '_SolventAccessibilityC3': 0.28, '_PolarizabilityT13': 0.151, '_PolarizabilityD3100': 98.208, '_NormalizedVDWVD2001': 1.434, '_ChargeD1075': 78.853, '_PolarityD3001': 0.358, '_SecondaryStrD2050': 45.878, '_PolarityD2050': 48.746, '_PolarityT12': 0.0, '_PolarityD1001': 0, '_PolarizabilityD3050': 45.161, '_SecondaryStrT23': 0.158, '_NormalizedVDWVD1001': 0.717, '_ChargeD2100': 99.642, '_SolventAccessibilityD2025': 25.448, '_HydrophobicityD2075': 73.835, '_HydrophobicityD2001': 0.717, '_ChargeD1001': 4.301, '_SolventAccessibilityD1075': 70.968, '_NormalizedVDWVD2100': 100.0, '_PolarityT13': 0.0, '_ChargeD3075': 63.082, '_ChargeT23': 0.187, '_SecondaryStrD1025': 25.448, '_PolarityD3025': 17.563, '_SolventAccessibilityD3001': 0.358, '_HydrophobicityD2050': 53.405, '_SecondaryStrD1100': 100.0, '_PolarizabilityD2001': 1.434, '_NormalizedVDWVD2050': 49.821, '_SecondaryStrD1001': 0.358, '_HydrophobicityT23': 0.223, '_HydrophobicityD2100': 99.642, '_PolarityD1100': 0, '_ChargeC1': 0.111, '_PolarityD3050': 45.161, '_PolarityD3100': 98.208, '_NormalizedVDWVD3001': 0.358}\n"
     ]
    }
   ],
   "source": [
    "print(DesObject.GetCTD()) ##calculate 147 CTD descriptors"
   ]
  },
  {
   "cell_type": "code",
   "execution_count": 6,
   "metadata": {
    "collapsed": false
   },
   "outputs": [
    {
     "name": "stdout",
     "output_type": "stream",
     "text": [
      "{'V': 6.093, 'F': 5.018, 'E': 8.244, 'I': 3.943, 'P': 5.376, 'H': 1.792, 'Y': 2.867, 'S': 8.244, 'C': 0.358, 'N': 3.943, 'W': 1.075, 'T': 7.168, 'K': 5.376, 'M': 2.509, 'G': 8.244, 'L': 7.527, 'D': 4.301, 'A': 7.885, 'R': 5.735, 'Q': 4.301}\n"
     ]
    }
   ],
   "source": [
    "print(DesObject.GetAAComp()) ##calculate 20 amino acid composition descriptors"
   ]
  },
  {
   "cell_type": "code",
   "execution_count": 7,
   "metadata": {
    "collapsed": false
   },
   "outputs": [
    {
     "name": "stdout",
     "output_type": "stream",
     "text": [
      "PAAC4 2.154\n",
      "PAAC25 5.019\n",
      "PAAC21 5.017\n",
      "PAAC14 2.514\n",
      "PAAC26 5.154\n",
      "PAAC1 3.95\n",
      "PAAC12 2.693\n",
      "PAAC10 1.975\n",
      "PAAC18 0.538\n",
      "PAAC20 3.052\n",
      "PAAC16 4.129\n",
      "PAAC9 0.898\n",
      "PAAC29 5.069\n",
      "PAAC19 1.436\n",
      "PAAC23 4.939\n",
      "PAAC27 5.182\n",
      "PAAC24 4.804\n",
      "PAAC11 3.77\n",
      "PAAC5 0.179\n",
      "PAAC2 2.873\n",
      "PAAC7 2.154\n",
      "PAAC13 1.257\n",
      "PAAC17 3.59\n",
      "PAAC28 5.162\n",
      "PAAC8 4.129\n",
      "PAAC30 4.836\n",
      "PAAC6 4.129\n",
      "PAAC15 2.693\n",
      "PAAC3 1.975\n",
      "PAAC22 4.729\n"
     ]
    }
   ],
   "source": [
    "paac=DesObject.GetPAAC(lamda=10,weight=0.05) ##calculate 30 pseudo amino acid composition descriptors\n",
    "\n",
    "for i in paac:\n",
    "    print(i, paac[i])"
   ]
  },
  {
   "cell_type": "code",
   "execution_count": null,
   "metadata": {
    "collapsed": true
   },
   "outputs": [],
   "source": []
  }
 ],
 "metadata": {
  "kernelspec": {
   "display_name": "Python 3",
   "language": "python",
   "name": "python3"
  },
  "language_info": {
   "codemirror_mode": {
    "name": "ipython",
    "version": 3
   },
   "file_extension": ".py",
   "mimetype": "text/x-python",
   "name": "python",
   "nbconvert_exporter": "python",
   "pygments_lexer": "ipython3",
   "version": "3.5.1"
  }
 },
 "nbformat": 4,
 "nbformat_minor": 0
}
