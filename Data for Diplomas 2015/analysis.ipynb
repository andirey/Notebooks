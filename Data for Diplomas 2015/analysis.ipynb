{
 "cells": [
  {
   "cell_type": "code",
   "execution_count": null,
   "metadata": {},
   "outputs": [],
   "source": [
    "# import numpy and pandas, and DataFrame / Series\n",
    "import numpy as np\n",
    "import pandas as pd\n",
    "from pandas import DataFrame, Series\n",
    "\n",
    "# Set some pandas options\n",
    "pd.set_option('display.notebook_repr_html', False)\n",
    "pd.set_option('display.max_columns', 10)\n",
    "pd.set_option('display.max_rows', 10)\n",
    "\n",
    "# And some items for matplotlib\n",
    "%matplotlib inline\n",
    "import matplotlib.pyplot as plt\n",
    "pd.options.display.mpl_style = 'default'"
   ]
  },
  {
   "cell_type": "code",
   "execution_count": 74,
   "metadata": {},
   "outputs": [],
   "source": [
    "def load_csv(file):\n",
    "    if os.path.exists(file):\n",
    "        #print('readible')\n",
    "        return pd.load_csv(file):\n",
    "    else: \n",
    "        print('unreadible: ', file)\n",
    "        return None\n",
    "    \n",
    "path_to_dir = r'/Users/hs3m/Dropbox/Programming/iPython/Notebooks/Data for Diplomas 2015'\n",
    "rel_path_to_file = r'Data for Diploams_Unmerged Data/Census_Data_2010.csv'\n",
    "file_path = os.path.join(path_to_dir, rel_path_to_file)\n",
    "census = load_csv(file_path)"
   ]
  },
  {
   "cell_type": "code",
   "execution_count": null,
   "metadata": {},
   "outputs": [],
   "source": [
    "census.columns"
   ]
  },
  {
   "cell_type": "code",
   "execution_count": null,
   "metadata": {},
   "outputs": [],
   "source": [
    ""
   ]
  }
 ],
 "metadata": {},
 "nbformat": 4,
 "nbformat_minor": 0
}