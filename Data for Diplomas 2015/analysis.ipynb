{
 "cells": [
  {
   "cell_type": "code",
   "execution_count": 3,
   "metadata": {},
   "outputs": [],
   "source": [
    "# import numpy and pandas, and DataFrame / Series\n",
    "import os\n",
    "import numpy as np\n",
    "import pandas as pd\n",
    "\n",
    "from pandas import DataFrame, Series\n",
    "\n",
    "# Set some pandas options\n",
    "pd.set_option('display.notebook_repr_html', False)\n",
    "pd.set_option('display.max_columns', 10)\n",
    "pd.set_option('display.max_rows', 10)\n",
    "\n",
    "# And some items for matplotlib\n",
    "%matplotlib inline\n",
    "import matplotlib.pyplot as plt\n",
    "pd.options.display.mpl_style = 'default'"
   ]
  },
  {
   "cell_type": "code",
   "execution_count": 6,
   "metadata": {},
   "outputs": [],
   "source": [
    "def load_csv(file):\n",
    "    if os.path.exists(file):\n",
    "        #print('readible')\n",
    "        return pd.read_csv(file)\n",
    "    else: \n",
    "        print('unreadible: ', file)\n",
    "        return None\n",
    "    \n",
    "path_to_dir = (r'/Users/hs3m/Dropbox/Programming/iPython/Notebooks'\n",
    "               '/Data for Diplomas 2015/'\n",
    "               'Data for Diploams_Unmerged Data')\n",
    "rel_path_to_file = r'Max_Tract_Overlap.csv'\n",
    "file_path = os.path.join(path_to_dir, rel_path_to_file)\n",
    "grad_rate = load_csv(os.path.join(path_to_dir, 'Graduation_Rates.csv'))\n",
    "sd_tract = load_csv(os.path.join(path_to_dir, 'SD_TRACT_MAPPING2010.csv'))"
   ]
  },
  {
   "cell_type": "code",
   "execution_count": 10,
   "metadata": {},
   "outputs": [
    {
     "name": "stdout",
     "output_type": "stream",
     "text": [
      "Percentage\nState\nCounty\nTract Code\n School District\n District ID\nLeaid\n"
     ]
    }
   ],
   "source": [
    "def print_1_column(item):\n",
    "    for i in list(item):\n",
    "        print(i)\n",
    "    return None\n",
    "# print_1_column(grad_rate.columns)\n",
    "print_1_column(sd_tract.columns)"
   ]
  },
  {
   "cell_type": "code",
   "execution_count": null,
   "metadata": {},
   "outputs": [],
   "source": [
    ""
   ]
  }
 ],
 "metadata": {},
 "nbformat": 4,
 "nbformat_minor": 0
}