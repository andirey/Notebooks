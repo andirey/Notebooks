{
 "cells": [
  {
   "cell_type": "code",
   "execution_count": 26,
   "metadata": {
    "collapsed": false
   },
   "outputs": [
    {
     "name": "stdout",
     "output_type": "stream",
     "text": [
      "jack=johnson&limit=3\n",
      "https://itunes.apple.com/search?term=jack=johnson&limit=3\n"
     ]
    }
   ],
   "source": [
    "# reference: https://www.apple.com/itunes/affiliates/resources/documentation/itunes-store-web-service-search-api.html\n",
    "\n",
    "import requests\n",
    "import json\n",
    "import urllib\n",
    "\n",
    "limit = 3\n",
    "query = \"jack johnson\"\n",
    "\n",
    "\n",
    "if limit:\n",
    "    query = \"{}&limit={}\".format(query, limit)\n",
    "# query = urllib.parse.quote_plus(query)\n",
    "query = query.replace(' ','=')\n",
    "print(query)\n",
    "\n",
    "url = 'https://itunes.apple.com/search?term={}'.format(query)\n",
    "print(url)\n",
    "\n",
    "r = requests.get(url)\n",
    "# print(r.text)\n"
   ]
  },
  {
   "cell_type": "code",
   "execution_count": 27,
   "metadata": {
    "collapsed": false
   },
   "outputs": [
    {
     "name": "stdout",
     "output_type": "stream",
     "text": [
      "{\n",
      "  \"resultCount\": 3,\n",
      "  \"results\": [\n",
      "    {\n",
      "      \"artistId\": 909253,\n",
      "      \"artistName\": \"Jack Johnson\",\n",
      "      \"artistViewUrl\": \"https://itunes.apple.com/us/artist/jack-johnson/id909253?uo=4\",\n",
      "      \"artworkUrl100\": \"http://is3.mzstatic.com/image/thumb/Music2/v4/a2/66/32/a2663205-663c-8301-eec7-57937c2d0878/source/100x100bb.jpg\",\n",
      "      \"artworkUrl30\": \"http://is3.mzstatic.com/image/thumb/Music2/v4/a2/66/32/a2663205-663c-8301-eec7-57937c2d0878/source/30x30bb.jpg\",\n",
      "      \"artworkUrl60\": \"http://is3.mzstatic.com/image/thumb/Music2/v4/a2/66/32/a2663205-663c-8301-eec7-57937c2d0878/source/60x60bb.jpg\",\n",
      "      \"collectionCensoredName\": \"In Between Dreams\",\n",
      "      \"collectionExplicitness\": \"notExplicit\",\n",
      "      \"collectionId\": 879273552,\n",
      "      \"collectionName\": \"In Between Dreams\",\n",
      "      \"collectionPrice\": 8.99,\n",
      "      \"collectionViewUrl\": \"https://itunes.apple.com/us/album/better-together/id879273552?i=879273565&uo=4\",\n",
      "      \"country\": \"USA\",\n",
      "      \"currency\": \"USD\",\n",
      "      \"discCount\": 1,\n",
      "      \"discNumber\": 1,\n",
      "      \"isStreamable\": true,\n",
      "      \"kind\": \"song\",\n",
      "      \"previewUrl\": \"http://a898.phobos.apple.com/us/r1000/039/Music6/v4/13/22/67/1322678b-e40d-fb4d-8d9b-3268fe03b000/mzaf_8818596367816221008.plus.aac.p.m4a\",\n",
      "      \"primaryGenreName\": \"Rock\",\n",
      "      \"radioStationUrl\": \"https://itunes.apple.com/station/idra.879273565\",\n",
      "      \"releaseDate\": \"2014-05-27T07:00:00Z\",\n",
      "      \"trackCensoredName\": \"Better Together\",\n",
      "      \"trackCount\": 15,\n",
      "      \"trackExplicitness\": \"notExplicit\",\n",
      "      \"trackId\": 879273565,\n",
      "      \"trackName\": \"Better Together\",\n",
      "      \"trackNumber\": 1,\n",
      "      \"trackPrice\": 1.29,\n",
      "      \"trackTimeMillis\": 207679,\n",
      "      \"trackViewUrl\": \"https://itunes.apple.com/us/album/better-together/id879273552?i=879273565&uo=4\",\n",
      "      \"wrapperType\": \"track\"\n",
      "    },\n",
      "    {\n",
      "      \"artistId\": 909253,\n",
      "      \"artistName\": \"Jack Johnson\",\n",
      "      \"artistViewUrl\": \"https://itunes.apple.com/us/artist/jack-johnson/id909253?uo=4\",\n",
      "      \"artworkUrl100\": \"http://is3.mzstatic.com/image/thumb/Music2/v4/a2/66/32/a2663205-663c-8301-eec7-57937c2d0878/source/100x100bb.jpg\",\n",
      "      \"artworkUrl30\": \"http://is3.mzstatic.com/image/thumb/Music2/v4/a2/66/32/a2663205-663c-8301-eec7-57937c2d0878/source/30x30bb.jpg\",\n",
      "      \"artworkUrl60\": \"http://is3.mzstatic.com/image/thumb/Music2/v4/a2/66/32/a2663205-663c-8301-eec7-57937c2d0878/source/60x60bb.jpg\",\n",
      "      \"collectionCensoredName\": \"In Between Dreams\",\n",
      "      \"collectionExplicitness\": \"notExplicit\",\n",
      "      \"collectionId\": 879273552,\n",
      "      \"collectionName\": \"In Between Dreams\",\n",
      "      \"collectionPrice\": 8.99,\n",
      "      \"collectionViewUrl\": \"https://itunes.apple.com/us/album/sitting-waiting-wishing/id879273552?i=879273573&uo=4\",\n",
      "      \"country\": \"USA\",\n",
      "      \"currency\": \"USD\",\n",
      "      \"discCount\": 1,\n",
      "      \"discNumber\": 1,\n",
      "      \"isStreamable\": true,\n",
      "      \"kind\": \"song\",\n",
      "      \"previewUrl\": \"http://a1654.phobos.apple.com/us/r1000/022/Music/v4/06/a1/0c/06a10c8b-e358-4bc0-c443-a120a775d3df/mzaf_1439207983024487820.plus.aac.p.m4a\",\n",
      "      \"primaryGenreName\": \"Rock\",\n",
      "      \"radioStationUrl\": \"https://itunes.apple.com/station/idra.879273573\",\n",
      "      \"releaseDate\": \"2014-05-27T07:00:00Z\",\n",
      "      \"trackCensoredName\": \"Sitting, Waiting, Wishing\",\n",
      "      \"trackCount\": 15,\n",
      "      \"trackExplicitness\": \"notExplicit\",\n",
      "      \"trackId\": 879273573,\n",
      "      \"trackName\": \"Sitting, Waiting, Wishing\",\n",
      "      \"trackNumber\": 6,\n",
      "      \"trackPrice\": 1.29,\n",
      "      \"trackTimeMillis\": 183721,\n",
      "      \"trackViewUrl\": \"https://itunes.apple.com/us/album/sitting-waiting-wishing/id879273552?i=879273573&uo=4\",\n",
      "      \"wrapperType\": \"track\"\n",
      "    },\n",
      "    {\n",
      "      \"artistId\": 909253,\n",
      "      \"artistName\": \"Jack Johnson\",\n",
      "      \"artistViewUrl\": \"https://itunes.apple.com/us/artist/jack-johnson/id909253?uo=4\",\n",
      "      \"artworkUrl100\": \"http://is3.mzstatic.com/image/thumb/Music2/v4/a2/66/32/a2663205-663c-8301-eec7-57937c2d0878/source/100x100bb.jpg\",\n",
      "      \"artworkUrl30\": \"http://is3.mzstatic.com/image/thumb/Music2/v4/a2/66/32/a2663205-663c-8301-eec7-57937c2d0878/source/30x30bb.jpg\",\n",
      "      \"artworkUrl60\": \"http://is3.mzstatic.com/image/thumb/Music2/v4/a2/66/32/a2663205-663c-8301-eec7-57937c2d0878/source/60x60bb.jpg\",\n",
      "      \"collectionCensoredName\": \"In Between Dreams\",\n",
      "      \"collectionExplicitness\": \"notExplicit\",\n",
      "      \"collectionId\": 879273552,\n",
      "      \"collectionName\": \"In Between Dreams\",\n",
      "      \"collectionPrice\": 8.99,\n",
      "      \"collectionViewUrl\": \"https://itunes.apple.com/us/album/banana-pancakes/id879273552?i=879273569&uo=4\",\n",
      "      \"country\": \"USA\",\n",
      "      \"currency\": \"USD\",\n",
      "      \"discCount\": 1,\n",
      "      \"discNumber\": 1,\n",
      "      \"isStreamable\": true,\n",
      "      \"kind\": \"song\",\n",
      "      \"previewUrl\": \"http://a540.phobos.apple.com/us/r1000/047/Music/v4/08/d9/c5/08d9c56d-73e5-be1c-1eda-071a48284440/mzaf_8565025008024189274.plus.aac.p.m4a\",\n",
      "      \"primaryGenreName\": \"Rock\",\n",
      "      \"radioStationUrl\": \"https://itunes.apple.com/station/idra.879273569\",\n",
      "      \"releaseDate\": \"2014-05-27T07:00:00Z\",\n",
      "      \"trackCensoredName\": \"Banana Pancakes\",\n",
      "      \"trackCount\": 15,\n",
      "      \"trackExplicitness\": \"notExplicit\",\n",
      "      \"trackId\": 879273569,\n",
      "      \"trackName\": \"Banana Pancakes\",\n",
      "      \"trackNumber\": 3,\n",
      "      \"trackPrice\": 1.29,\n",
      "      \"trackTimeMillis\": 191854,\n",
      "      \"trackViewUrl\": \"https://itunes.apple.com/us/album/banana-pancakes/id879273552?i=879273569&uo=4\",\n",
      "      \"wrapperType\": \"track\"\n",
      "    }\n",
      "  ]\n",
      "}\n"
     ]
    }
   ],
   "source": [
    "data = json.loads(r.text)  # string -> json\n",
    "\n",
    "print(json.dumps(data, sort_keys=True, indent=2)) #json -> string"
   ]
  },
  {
   "cell_type": "code",
   "execution_count": null,
   "metadata": {
    "collapsed": true
   },
   "outputs": [],
   "source": []
  }
 ],
 "metadata": {
  "kernelspec": {
   "display_name": "Python 3",
   "language": "python",
   "name": "python3"
  },
  "language_info": {
   "codemirror_mode": {
    "name": "ipython",
    "version": 3
   },
   "file_extension": ".py",
   "mimetype": "text/x-python",
   "name": "python",
   "nbconvert_exporter": "python",
   "pygments_lexer": "ipython3",
   "version": "3.4.3"
  }
 },
 "nbformat": 4,
 "nbformat_minor": 0
}
